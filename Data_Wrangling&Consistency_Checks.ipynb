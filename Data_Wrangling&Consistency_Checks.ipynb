{
 "cells": [
  {
   "cell_type": "markdown",
   "id": "7f37b8df-92bb-48d4-8827-ade4a2397e4b",
   "metadata": {},
   "source": [
    "# Data Wrangling & Consistency Checks\n",
    "## Importing libraries\n",
    "## Clean data\n",
    "### - import datas\n",
    "### - data wrangling\n",
    "### - data consistency checks\n",
    "## Export data"
   ]
  },
  {
   "cell_type": "markdown",
   "id": "9121efe2-0452-4caf-b8c9-71f442155151",
   "metadata": {
    "tags": []
   },
   "source": [
    "### Importing libraries"
   ]
  },
  {
   "cell_type": "code",
   "execution_count": 1,
   "id": "53ce4c38-c3b7-40cf-b1e7-ab9dfad2d899",
   "metadata": {},
   "outputs": [],
   "source": [
    "import pandas as pd\n",
    "import numpy as np\n",
    "import os"
   ]
  },
  {
   "cell_type": "markdown",
   "id": "84651434-bff5-4c40-a719-9c83744ffb21",
   "metadata": {},
   "source": [
    "### Importing employee data"
   ]
  },
  {
   "cell_type": "code",
   "execution_count": 3,
   "id": "81c37cef-27ef-4029-a541-397ee673eb40",
   "metadata": {},
   "outputs": [],
   "source": [
    "path = r'/Users/rusamijan/06-2023 Chinook Music Store Analysis'"
   ]
  },
  {
   "cell_type": "code",
   "execution_count": 4,
   "id": "0bf05885-5e17-4bfb-a4fe-c4e30f890a03",
   "metadata": {},
   "outputs": [],
   "source": [
    "df_emp = pd.read_csv(os.path.join(path, '02 Data', 'Original Data', 'employee.csv'), index_col = False)"
   ]
  },
  {
   "cell_type": "markdown",
   "id": "b83fc2a9-ab0f-4e02-8672-d30eb590f6fd",
   "metadata": {},
   "source": [
    "### Data wrangling for employee"
   ]
  },
  {
   "cell_type": "code",
   "execution_count": 5,
   "id": "e7b299ff-7ec6-4ff2-9bcc-1f2bca373bd5",
   "metadata": {},
   "outputs": [
    {
     "data": {
      "text/html": [
       "<div>\n",
       "<style scoped>\n",
       "    .dataframe tbody tr th:only-of-type {\n",
       "        vertical-align: middle;\n",
       "    }\n",
       "\n",
       "    .dataframe tbody tr th {\n",
       "        vertical-align: top;\n",
       "    }\n",
       "\n",
       "    .dataframe thead th {\n",
       "        text-align: right;\n",
       "    }\n",
       "</style>\n",
       "<table border=\"1\" class=\"dataframe\">\n",
       "  <thead>\n",
       "    <tr style=\"text-align: right;\">\n",
       "      <th></th>\n",
       "      <th>employee_id</th>\n",
       "      <th>last_name</th>\n",
       "      <th>first_name</th>\n",
       "      <th>title</th>\n",
       "      <th>reports_to</th>\n",
       "      <th>birthdate</th>\n",
       "      <th>hire_date</th>\n",
       "      <th>address</th>\n",
       "      <th>city</th>\n",
       "      <th>state</th>\n",
       "      <th>country</th>\n",
       "      <th>postal_code</th>\n",
       "      <th>phone</th>\n",
       "      <th>fax</th>\n",
       "      <th>email</th>\n",
       "    </tr>\n",
       "  </thead>\n",
       "  <tbody>\n",
       "    <tr>\n",
       "      <th>0</th>\n",
       "      <td>1</td>\n",
       "      <td>Adams</td>\n",
       "      <td>Andrew</td>\n",
       "      <td>General Manager</td>\n",
       "      <td>NaN</td>\n",
       "      <td>1962-02-18 00:00:00</td>\n",
       "      <td>2016-08-14 00:00:00</td>\n",
       "      <td>11120 Jasper Ave NW</td>\n",
       "      <td>Edmonton</td>\n",
       "      <td>AB</td>\n",
       "      <td>Canada</td>\n",
       "      <td>T5K 2N1</td>\n",
       "      <td>+1 (780) 428-9482</td>\n",
       "      <td>+1 (780) 428-3457</td>\n",
       "      <td>andrew@chinookcorp.com</td>\n",
       "    </tr>\n",
       "    <tr>\n",
       "      <th>1</th>\n",
       "      <td>2</td>\n",
       "      <td>Edwards</td>\n",
       "      <td>Nancy</td>\n",
       "      <td>Sales Manager</td>\n",
       "      <td>1.0</td>\n",
       "      <td>1958-12-08 00:00:00</td>\n",
       "      <td>2016-05-01 00:00:00</td>\n",
       "      <td>825 8 Ave SW</td>\n",
       "      <td>Calgary</td>\n",
       "      <td>AB</td>\n",
       "      <td>Canada</td>\n",
       "      <td>T2P 2T3</td>\n",
       "      <td>+1 (403) 262-3443</td>\n",
       "      <td>+1 (403) 262-3322</td>\n",
       "      <td>nancy@chinookcorp.com</td>\n",
       "    </tr>\n",
       "    <tr>\n",
       "      <th>2</th>\n",
       "      <td>3</td>\n",
       "      <td>Peacock</td>\n",
       "      <td>Jane</td>\n",
       "      <td>Sales Support Agent</td>\n",
       "      <td>2.0</td>\n",
       "      <td>1973-08-29 00:00:00</td>\n",
       "      <td>2017-04-01 00:00:00</td>\n",
       "      <td>1111 6 Ave SW</td>\n",
       "      <td>Calgary</td>\n",
       "      <td>AB</td>\n",
       "      <td>Canada</td>\n",
       "      <td>T2P 5M5</td>\n",
       "      <td>+1 (403) 262-3443</td>\n",
       "      <td>+1 (403) 262-6712</td>\n",
       "      <td>jane@chinookcorp.com</td>\n",
       "    </tr>\n",
       "    <tr>\n",
       "      <th>3</th>\n",
       "      <td>4</td>\n",
       "      <td>Park</td>\n",
       "      <td>Margaret</td>\n",
       "      <td>Sales Support Agent</td>\n",
       "      <td>2.0</td>\n",
       "      <td>1947-09-19 00:00:00</td>\n",
       "      <td>2017-05-03 00:00:00</td>\n",
       "      <td>683 10 Street SW</td>\n",
       "      <td>Calgary</td>\n",
       "      <td>AB</td>\n",
       "      <td>Canada</td>\n",
       "      <td>T2P 5G3</td>\n",
       "      <td>+1 (403) 263-4423</td>\n",
       "      <td>+1 (403) 263-4289</td>\n",
       "      <td>margaret@chinookcorp.com</td>\n",
       "    </tr>\n",
       "    <tr>\n",
       "      <th>4</th>\n",
       "      <td>5</td>\n",
       "      <td>Johnson</td>\n",
       "      <td>Steve</td>\n",
       "      <td>Sales Support Agent</td>\n",
       "      <td>2.0</td>\n",
       "      <td>1965-03-03 00:00:00</td>\n",
       "      <td>2017-10-17 00:00:00</td>\n",
       "      <td>7727B 41 Ave</td>\n",
       "      <td>Calgary</td>\n",
       "      <td>AB</td>\n",
       "      <td>Canada</td>\n",
       "      <td>T3B 1Y7</td>\n",
       "      <td>1 (780) 836-9987</td>\n",
       "      <td>1 (780) 836-9543</td>\n",
       "      <td>steve@chinookcorp.com</td>\n",
       "    </tr>\n",
       "  </tbody>\n",
       "</table>\n",
       "</div>"
      ],
      "text/plain": [
       "   employee_id last_name first_name                title  reports_to  \\\n",
       "0            1     Adams     Andrew      General Manager         NaN   \n",
       "1            2   Edwards      Nancy        Sales Manager         1.0   \n",
       "2            3   Peacock       Jane  Sales Support Agent         2.0   \n",
       "3            4      Park   Margaret  Sales Support Agent         2.0   \n",
       "4            5   Johnson      Steve  Sales Support Agent         2.0   \n",
       "\n",
       "             birthdate            hire_date              address      city  \\\n",
       "0  1962-02-18 00:00:00  2016-08-14 00:00:00  11120 Jasper Ave NW  Edmonton   \n",
       "1  1958-12-08 00:00:00  2016-05-01 00:00:00         825 8 Ave SW   Calgary   \n",
       "2  1973-08-29 00:00:00  2017-04-01 00:00:00        1111 6 Ave SW   Calgary   \n",
       "3  1947-09-19 00:00:00  2017-05-03 00:00:00     683 10 Street SW   Calgary   \n",
       "4  1965-03-03 00:00:00  2017-10-17 00:00:00         7727B 41 Ave   Calgary   \n",
       "\n",
       "  state country postal_code              phone                fax  \\\n",
       "0    AB  Canada     T5K 2N1  +1 (780) 428-9482  +1 (780) 428-3457   \n",
       "1    AB  Canada     T2P 2T3  +1 (403) 262-3443  +1 (403) 262-3322   \n",
       "2    AB  Canada     T2P 5M5  +1 (403) 262-3443  +1 (403) 262-6712   \n",
       "3    AB  Canada     T2P 5G3  +1 (403) 263-4423  +1 (403) 263-4289   \n",
       "4    AB  Canada     T3B 1Y7   1 (780) 836-9987   1 (780) 836-9543   \n",
       "\n",
       "                      email  \n",
       "0    andrew@chinookcorp.com  \n",
       "1     nancy@chinookcorp.com  \n",
       "2      jane@chinookcorp.com  \n",
       "3  margaret@chinookcorp.com  \n",
       "4     steve@chinookcorp.com  "
      ]
     },
     "execution_count": 5,
     "metadata": {},
     "output_type": "execute_result"
    }
   ],
   "source": [
    "df_emp.head()"
   ]
  },
  {
   "cell_type": "code",
   "execution_count": 15,
   "id": "cb1ce85e-6fbd-44da-9509-4bf51c4c9136",
   "metadata": {},
   "outputs": [
    {
     "data": {
      "text/plain": [
       "(8, 15)"
      ]
     },
     "execution_count": 15,
     "metadata": {},
     "output_type": "execute_result"
    }
   ],
   "source": [
    "df_emp.shape"
   ]
  },
  {
   "cell_type": "code",
   "execution_count": 7,
   "id": "74499518-3e71-4760-91a5-22904967083b",
   "metadata": {
    "tags": []
   },
   "outputs": [
    {
     "data": {
      "text/html": [
       "<div>\n",
       "<style scoped>\n",
       "    .dataframe tbody tr th:only-of-type {\n",
       "        vertical-align: middle;\n",
       "    }\n",
       "\n",
       "    .dataframe tbody tr th {\n",
       "        vertical-align: top;\n",
       "    }\n",
       "\n",
       "    .dataframe thead th {\n",
       "        text-align: right;\n",
       "    }\n",
       "</style>\n",
       "<table border=\"1\" class=\"dataframe\">\n",
       "  <thead>\n",
       "    <tr style=\"text-align: right;\">\n",
       "      <th></th>\n",
       "      <th>employee_id</th>\n",
       "      <th>reports_to</th>\n",
       "    </tr>\n",
       "  </thead>\n",
       "  <tbody>\n",
       "    <tr>\n",
       "      <th>count</th>\n",
       "      <td>8.00000</td>\n",
       "      <td>7.000000</td>\n",
       "    </tr>\n",
       "    <tr>\n",
       "      <th>mean</th>\n",
       "      <td>4.50000</td>\n",
       "      <td>2.857143</td>\n",
       "    </tr>\n",
       "    <tr>\n",
       "      <th>std</th>\n",
       "      <td>2.44949</td>\n",
       "      <td>2.193063</td>\n",
       "    </tr>\n",
       "    <tr>\n",
       "      <th>min</th>\n",
       "      <td>1.00000</td>\n",
       "      <td>1.000000</td>\n",
       "    </tr>\n",
       "    <tr>\n",
       "      <th>25%</th>\n",
       "      <td>2.75000</td>\n",
       "      <td>1.500000</td>\n",
       "    </tr>\n",
       "    <tr>\n",
       "      <th>50%</th>\n",
       "      <td>4.50000</td>\n",
       "      <td>2.000000</td>\n",
       "    </tr>\n",
       "    <tr>\n",
       "      <th>75%</th>\n",
       "      <td>6.25000</td>\n",
       "      <td>4.000000</td>\n",
       "    </tr>\n",
       "    <tr>\n",
       "      <th>max</th>\n",
       "      <td>8.00000</td>\n",
       "      <td>6.000000</td>\n",
       "    </tr>\n",
       "  </tbody>\n",
       "</table>\n",
       "</div>"
      ],
      "text/plain": [
       "       employee_id  reports_to\n",
       "count      8.00000    7.000000\n",
       "mean       4.50000    2.857143\n",
       "std        2.44949    2.193063\n",
       "min        1.00000    1.000000\n",
       "25%        2.75000    1.500000\n",
       "50%        4.50000    2.000000\n",
       "75%        6.25000    4.000000\n",
       "max        8.00000    6.000000"
      ]
     },
     "execution_count": 7,
     "metadata": {},
     "output_type": "execute_result"
    }
   ],
   "source": [
    "df_emp.describe()"
   ]
  },
  {
   "cell_type": "code",
   "execution_count": 9,
   "id": "cd01d819-c3c9-41fb-97cc-ef3ddd1debd5",
   "metadata": {},
   "outputs": [
    {
     "data": {
      "text/plain": [
       "Sales Support Agent    3\n",
       "IT Staff               2\n",
       "General Manager        1\n",
       "Sales Manager          1\n",
       "IT Manager             1\n",
       "Name: title, dtype: int64"
      ]
     },
     "execution_count": 9,
     "metadata": {},
     "output_type": "execute_result"
    }
   ],
   "source": [
    "df_emp['title'].value_counts()"
   ]
  },
  {
   "cell_type": "code",
   "execution_count": 10,
   "id": "3ad50661-4408-4c7f-929e-ff07dc093879",
   "metadata": {},
   "outputs": [
    {
     "name": "stdout",
     "output_type": "stream",
     "text": [
      "<class 'pandas.core.frame.DataFrame'>\n",
      "RangeIndex: 8 entries, 0 to 7\n",
      "Data columns (total 15 columns):\n",
      " #   Column       Non-Null Count  Dtype  \n",
      "---  ------       --------------  -----  \n",
      " 0   employee_id  8 non-null      int64  \n",
      " 1   last_name    8 non-null      object \n",
      " 2   first_name   8 non-null      object \n",
      " 3   title        8 non-null      object \n",
      " 4   reports_to   7 non-null      float64\n",
      " 5   birthdate    8 non-null      object \n",
      " 6   hire_date    8 non-null      object \n",
      " 7   address      8 non-null      object \n",
      " 8   city         8 non-null      object \n",
      " 9   state        8 non-null      object \n",
      " 10  country      8 non-null      object \n",
      " 11  postal_code  8 non-null      object \n",
      " 12  phone        8 non-null      object \n",
      " 13  fax          8 non-null      object \n",
      " 14  email        8 non-null      object \n",
      "dtypes: float64(1), int64(1), object(13)\n",
      "memory usage: 1.1+ KB\n"
     ]
    }
   ],
   "source": [
    "df_emp.info()"
   ]
  },
  {
   "cell_type": "markdown",
   "id": "1194b9de-e50c-4038-998e-4eab1c41a686",
   "metadata": {},
   "source": [
    "### Data consistency checks"
   ]
  },
  {
   "cell_type": "code",
   "execution_count": 14,
   "id": "3c8a3605-c8da-4669-b812-d489f369d55c",
   "metadata": {},
   "outputs": [
    {
     "data": {
      "text/plain": [
       "employee_id    0\n",
       "last_name      0\n",
       "first_name     0\n",
       "title          0\n",
       "reports_to     1\n",
       "birthdate      0\n",
       "hire_date      0\n",
       "address        0\n",
       "city           0\n",
       "state          0\n",
       "country        0\n",
       "postal_code    0\n",
       "phone          0\n",
       "fax            0\n",
       "email          0\n",
       "dtype: int64"
      ]
     },
     "execution_count": 14,
     "metadata": {},
     "output_type": "execute_result"
    }
   ],
   "source": [
    "#Fnding null value \n",
    "df_emp.isnull().sum()"
   ]
  },
  {
   "cell_type": "markdown",
   "id": "a9bc9419-d401-4d9f-823a-dd125e9ad591",
   "metadata": {},
   "source": [
    "only 1 missing value at report_to column. No need to do anything"
   ]
  },
  {
   "cell_type": "code",
   "execution_count": 16,
   "id": "38a5af77-b95d-48a5-b524-9e6a8a5fc589",
   "metadata": {},
   "outputs": [],
   "source": [
    "#Finding duplicate value\n",
    "df_dups_emp = df_emp[df_emp.duplicated()]"
   ]
  },
  {
   "cell_type": "code",
   "execution_count": 17,
   "id": "aa6835f1-662d-4fc8-ac02-34b9783a7c45",
   "metadata": {},
   "outputs": [
    {
     "data": {
      "text/html": [
       "<div>\n",
       "<style scoped>\n",
       "    .dataframe tbody tr th:only-of-type {\n",
       "        vertical-align: middle;\n",
       "    }\n",
       "\n",
       "    .dataframe tbody tr th {\n",
       "        vertical-align: top;\n",
       "    }\n",
       "\n",
       "    .dataframe thead th {\n",
       "        text-align: right;\n",
       "    }\n",
       "</style>\n",
       "<table border=\"1\" class=\"dataframe\">\n",
       "  <thead>\n",
       "    <tr style=\"text-align: right;\">\n",
       "      <th></th>\n",
       "      <th>employee_id</th>\n",
       "      <th>last_name</th>\n",
       "      <th>first_name</th>\n",
       "      <th>title</th>\n",
       "      <th>reports_to</th>\n",
       "      <th>birthdate</th>\n",
       "      <th>hire_date</th>\n",
       "      <th>address</th>\n",
       "      <th>city</th>\n",
       "      <th>state</th>\n",
       "      <th>country</th>\n",
       "      <th>postal_code</th>\n",
       "      <th>phone</th>\n",
       "      <th>fax</th>\n",
       "      <th>email</th>\n",
       "    </tr>\n",
       "  </thead>\n",
       "  <tbody>\n",
       "  </tbody>\n",
       "</table>\n",
       "</div>"
      ],
      "text/plain": [
       "Empty DataFrame\n",
       "Columns: [employee_id, last_name, first_name, title, reports_to, birthdate, hire_date, address, city, state, country, postal_code, phone, fax, email]\n",
       "Index: []"
      ]
     },
     "execution_count": 17,
     "metadata": {},
     "output_type": "execute_result"
    }
   ],
   "source": [
    "df_dups_emp"
   ]
  },
  {
   "cell_type": "markdown",
   "id": "e3fa91f7-ada7-4d66-9a03-a9c3ff3a2920",
   "metadata": {},
   "source": [
    "The result has no duplicate value in employee table"
   ]
  },
  {
   "cell_type": "code",
   "execution_count": 18,
   "id": "a4b48333-ef87-4066-a83b-3e1f204f2799",
   "metadata": {},
   "outputs": [],
   "source": [
    "#Check employee for mixed types\n",
    "for col in df_emp.columns.tolist():\n",
    "  weird = (df_emp[[col]].applymap(type) != df_emp[[col]].iloc[0].apply(type)).any(axis = 1)\n",
    "  if len (df_emp[weird]) > 0:\n",
    "    print (col)"
   ]
  },
  {
   "cell_type": "code",
   "execution_count": 19,
   "id": "70b3d4c1-ab82-4212-8429-cc6f8c8a3ad3",
   "metadata": {},
   "outputs": [
    {
     "name": "stdout",
     "output_type": "stream",
     "text": [
      "employee_id  consistent\n",
      "last_name  consistent\n",
      "first_name  consistent\n",
      "title  consistent\n",
      "reports_to  consistent\n",
      "birthdate  consistent\n",
      "hire_date  consistent\n",
      "address  consistent\n",
      "city  consistent\n",
      "state  consistent\n",
      "country  consistent\n",
      "postal_code  consistent\n",
      "phone  consistent\n",
      "fax  consistent\n",
      "email  consistent\n"
     ]
    }
   ],
   "source": [
    "#Print \"consistent\" if no mixed types\n",
    "for col in df_emp.columns.tolist():\n",
    "  weird = (df_emp[[col]].applymap(type) != df_emp[[col]].iloc[0].apply(type)).any(axis = 1)\n",
    "  if len (df_emp[weird]) > 0:\n",
    "    print (col, ' mixed')\n",
    "  else: print(col, ' consistent')"
   ]
  },
  {
   "cell_type": "markdown",
   "id": "c609b989-0177-4567-a1aa-d51385bbdcea",
   "metadata": {
    "tags": []
   },
   "source": [
    "The result shows no mix type of data and consistency"
   ]
  },
  {
   "cell_type": "markdown",
   "id": "f95cdb7e-eecd-4cd4-b722-af8796ff73cc",
   "metadata": {},
   "source": [
    "### Importing customer, invoice, invoice_line, track"
   ]
  },
  {
   "cell_type": "code",
   "execution_count": 74,
   "id": "7cd22059-3bee-4fd3-a627-6770fc3b5fef",
   "metadata": {},
   "outputs": [],
   "source": [
    "df_cus = pd.read_csv(os.path.join(path, '02 Data', 'Original Data', 'customer.csv'), index_col = False)\n",
    "df_inv = pd.read_csv(os.path.join(path, '02 Data', 'Original Data', 'invoice.csv'), index_col = False)\n",
    "df_invl = pd.read_csv(os.path.join(path, '02 Data', 'Original Data', 'invoice_line.csv'), index_col = False)\n",
    "df_tr = pd.read_csv(os.path.join(path, '02 Data', 'Original Data', 'track.csv'), index_col = False)"
   ]
  },
  {
   "cell_type": "markdown",
   "id": "398782b5-c5df-4b07-9e09-50b046e1d4c0",
   "metadata": {
    "tags": []
   },
   "source": [
    "### Data wrangling for customer"
   ]
  },
  {
   "cell_type": "code",
   "execution_count": 33,
   "id": "55839c25-3b42-45ba-b842-021af0b7a670",
   "metadata": {},
   "outputs": [
    {
     "data": {
      "text/html": [
       "<div>\n",
       "<style scoped>\n",
       "    .dataframe tbody tr th:only-of-type {\n",
       "        vertical-align: middle;\n",
       "    }\n",
       "\n",
       "    .dataframe tbody tr th {\n",
       "        vertical-align: top;\n",
       "    }\n",
       "\n",
       "    .dataframe thead th {\n",
       "        text-align: right;\n",
       "    }\n",
       "</style>\n",
       "<table border=\"1\" class=\"dataframe\">\n",
       "  <thead>\n",
       "    <tr style=\"text-align: right;\">\n",
       "      <th></th>\n",
       "      <th>customer_id</th>\n",
       "      <th>first_name</th>\n",
       "      <th>last_name</th>\n",
       "      <th>company</th>\n",
       "      <th>address</th>\n",
       "      <th>city</th>\n",
       "      <th>state</th>\n",
       "      <th>country</th>\n",
       "      <th>postal_code</th>\n",
       "      <th>phone</th>\n",
       "      <th>fax</th>\n",
       "      <th>email</th>\n",
       "      <th>support_rep_id</th>\n",
       "    </tr>\n",
       "  </thead>\n",
       "  <tbody>\n",
       "    <tr>\n",
       "      <th>0</th>\n",
       "      <td>1</td>\n",
       "      <td>LuÌs</td>\n",
       "      <td>GonÁalves</td>\n",
       "      <td>Embraer - Empresa Brasileira de Aeron·utica S.A.</td>\n",
       "      <td>Av. Brigadeiro Faria Lima, 2170</td>\n",
       "      <td>S?o JosÈ dos Campos</td>\n",
       "      <td>SP</td>\n",
       "      <td>Brazil</td>\n",
       "      <td>12227-000</td>\n",
       "      <td>+55 (12) 3923-5555</td>\n",
       "      <td>+55 (12) 3923-5566</td>\n",
       "      <td>luisg@embraer.com.br</td>\n",
       "      <td>3</td>\n",
       "    </tr>\n",
       "    <tr>\n",
       "      <th>1</th>\n",
       "      <td>2</td>\n",
       "      <td>Leonie</td>\n",
       "      <td>Kˆhler</td>\n",
       "      <td>NaN</td>\n",
       "      <td>Theodor-Heuss-Straﬂe 34</td>\n",
       "      <td>Stuttgart</td>\n",
       "      <td>NaN</td>\n",
       "      <td>Germany</td>\n",
       "      <td>70174</td>\n",
       "      <td>+49 0711 2842222</td>\n",
       "      <td>NaN</td>\n",
       "      <td>leonekohler@surfeu.de</td>\n",
       "      <td>5</td>\n",
       "    </tr>\n",
       "    <tr>\n",
       "      <th>2</th>\n",
       "      <td>3</td>\n",
       "      <td>FranÁois</td>\n",
       "      <td>Tremblay</td>\n",
       "      <td>NaN</td>\n",
       "      <td>1498 rue BÈlanger</td>\n",
       "      <td>MontrÈal</td>\n",
       "      <td>QC</td>\n",
       "      <td>Canada</td>\n",
       "      <td>H2G 1A7</td>\n",
       "      <td>+1 (514) 721-4711</td>\n",
       "      <td>NaN</td>\n",
       "      <td>ftremblay@gmail.com</td>\n",
       "      <td>3</td>\n",
       "    </tr>\n",
       "    <tr>\n",
       "      <th>3</th>\n",
       "      <td>4</td>\n",
       "      <td>Bj¯rn</td>\n",
       "      <td>Hansen</td>\n",
       "      <td>NaN</td>\n",
       "      <td>UllevÂlsveien 14</td>\n",
       "      <td>Oslo</td>\n",
       "      <td>NaN</td>\n",
       "      <td>Norway</td>\n",
       "      <td>171</td>\n",
       "      <td>+47 22 44 22 22</td>\n",
       "      <td>NaN</td>\n",
       "      <td>bjorn.hansen@yahoo.no</td>\n",
       "      <td>4</td>\n",
       "    </tr>\n",
       "    <tr>\n",
       "      <th>4</th>\n",
       "      <td>5</td>\n",
       "      <td>Franti?ek</td>\n",
       "      <td>Wichterlov·</td>\n",
       "      <td>JetBrains s.r.o.</td>\n",
       "      <td>Klanova 9/506</td>\n",
       "      <td>Prague</td>\n",
       "      <td>NaN</td>\n",
       "      <td>Czech Republic</td>\n",
       "      <td>14700</td>\n",
       "      <td>+420 2 4172 5555</td>\n",
       "      <td>+420 2 4172 5555</td>\n",
       "      <td>frantisekw@jetbrains.com</td>\n",
       "      <td>4</td>\n",
       "    </tr>\n",
       "  </tbody>\n",
       "</table>\n",
       "</div>"
      ],
      "text/plain": [
       "   customer_id first_name    last_name  \\\n",
       "0            1       LuÌs    GonÁalves   \n",
       "1            2     Leonie       Kˆhler   \n",
       "2            3   FranÁois     Tremblay   \n",
       "3            4      Bj¯rn       Hansen   \n",
       "4            5  Franti?ek  Wichterlov·   \n",
       "\n",
       "                                            company  \\\n",
       "0  Embraer - Empresa Brasileira de Aeron·utica S.A.   \n",
       "1                                               NaN   \n",
       "2                                               NaN   \n",
       "3                                               NaN   \n",
       "4                                  JetBrains s.r.o.   \n",
       "\n",
       "                           address                 city state         country  \\\n",
       "0  Av. Brigadeiro Faria Lima, 2170  S?o JosÈ dos Campos    SP          Brazil   \n",
       "1          Theodor-Heuss-Straﬂe 34            Stuttgart   NaN         Germany   \n",
       "2                1498 rue BÈlanger             MontrÈal    QC          Canada   \n",
       "3                 UllevÂlsveien 14                 Oslo   NaN          Norway   \n",
       "4                    Klanova 9/506               Prague   NaN  Czech Republic   \n",
       "\n",
       "  postal_code               phone                 fax  \\\n",
       "0   12227-000  +55 (12) 3923-5555  +55 (12) 3923-5566   \n",
       "1       70174    +49 0711 2842222                 NaN   \n",
       "2     H2G 1A7   +1 (514) 721-4711                 NaN   \n",
       "3         171     +47 22 44 22 22                 NaN   \n",
       "4       14700    +420 2 4172 5555    +420 2 4172 5555   \n",
       "\n",
       "                      email  support_rep_id  \n",
       "0      luisg@embraer.com.br               3  \n",
       "1     leonekohler@surfeu.de               5  \n",
       "2       ftremblay@gmail.com               3  \n",
       "3     bjorn.hansen@yahoo.no               4  \n",
       "4  frantisekw@jetbrains.com               4  "
      ]
     },
     "execution_count": 33,
     "metadata": {},
     "output_type": "execute_result"
    }
   ],
   "source": [
    "df_cus.head()"
   ]
  },
  {
   "cell_type": "code",
   "execution_count": 34,
   "id": "697cabfa-e7f8-4c39-9178-bb47e81e3838",
   "metadata": {},
   "outputs": [
    {
     "data": {
      "text/plain": [
       "(59, 13)"
      ]
     },
     "execution_count": 34,
     "metadata": {},
     "output_type": "execute_result"
    }
   ],
   "source": [
    "df_cus.shape"
   ]
  },
  {
   "cell_type": "code",
   "execution_count": 35,
   "id": "9807d3b6-2c14-4d10-af74-82813b469c6c",
   "metadata": {},
   "outputs": [
    {
     "data": {
      "text/html": [
       "<div>\n",
       "<style scoped>\n",
       "    .dataframe tbody tr th:only-of-type {\n",
       "        vertical-align: middle;\n",
       "    }\n",
       "\n",
       "    .dataframe tbody tr th {\n",
       "        vertical-align: top;\n",
       "    }\n",
       "\n",
       "    .dataframe thead th {\n",
       "        text-align: right;\n",
       "    }\n",
       "</style>\n",
       "<table border=\"1\" class=\"dataframe\">\n",
       "  <thead>\n",
       "    <tr style=\"text-align: right;\">\n",
       "      <th></th>\n",
       "      <th>customer_id</th>\n",
       "      <th>support_rep_id</th>\n",
       "    </tr>\n",
       "  </thead>\n",
       "  <tbody>\n",
       "    <tr>\n",
       "      <th>count</th>\n",
       "      <td>59.000000</td>\n",
       "      <td>59.000000</td>\n",
       "    </tr>\n",
       "    <tr>\n",
       "      <th>mean</th>\n",
       "      <td>30.000000</td>\n",
       "      <td>3.949153</td>\n",
       "    </tr>\n",
       "    <tr>\n",
       "      <th>std</th>\n",
       "      <td>17.175564</td>\n",
       "      <td>0.818403</td>\n",
       "    </tr>\n",
       "    <tr>\n",
       "      <th>min</th>\n",
       "      <td>1.000000</td>\n",
       "      <td>3.000000</td>\n",
       "    </tr>\n",
       "    <tr>\n",
       "      <th>25%</th>\n",
       "      <td>15.500000</td>\n",
       "      <td>3.000000</td>\n",
       "    </tr>\n",
       "    <tr>\n",
       "      <th>50%</th>\n",
       "      <td>30.000000</td>\n",
       "      <td>4.000000</td>\n",
       "    </tr>\n",
       "    <tr>\n",
       "      <th>75%</th>\n",
       "      <td>44.500000</td>\n",
       "      <td>5.000000</td>\n",
       "    </tr>\n",
       "    <tr>\n",
       "      <th>max</th>\n",
       "      <td>59.000000</td>\n",
       "      <td>5.000000</td>\n",
       "    </tr>\n",
       "  </tbody>\n",
       "</table>\n",
       "</div>"
      ],
      "text/plain": [
       "       customer_id  support_rep_id\n",
       "count    59.000000       59.000000\n",
       "mean     30.000000        3.949153\n",
       "std      17.175564        0.818403\n",
       "min       1.000000        3.000000\n",
       "25%      15.500000        3.000000\n",
       "50%      30.000000        4.000000\n",
       "75%      44.500000        5.000000\n",
       "max      59.000000        5.000000"
      ]
     },
     "execution_count": 35,
     "metadata": {},
     "output_type": "execute_result"
    }
   ],
   "source": [
    "df_cus.describe()"
   ]
  },
  {
   "cell_type": "code",
   "execution_count": 36,
   "id": "6abda040-c9d5-437f-8dfd-d6e36bbe62f0",
   "metadata": {},
   "outputs": [
    {
     "name": "stdout",
     "output_type": "stream",
     "text": [
      "<class 'pandas.core.frame.DataFrame'>\n",
      "RangeIndex: 59 entries, 0 to 58\n",
      "Data columns (total 13 columns):\n",
      " #   Column          Non-Null Count  Dtype \n",
      "---  ------          --------------  ----- \n",
      " 0   customer_id     59 non-null     int64 \n",
      " 1   first_name      59 non-null     object\n",
      " 2   last_name       59 non-null     object\n",
      " 3   company         10 non-null     object\n",
      " 4   address         59 non-null     object\n",
      " 5   city            59 non-null     object\n",
      " 6   state           30 non-null     object\n",
      " 7   country         59 non-null     object\n",
      " 8   postal_code     55 non-null     object\n",
      " 9   phone           58 non-null     object\n",
      " 10  fax             12 non-null     object\n",
      " 11  email           59 non-null     object\n",
      " 12  support_rep_id  59 non-null     int64 \n",
      "dtypes: int64(2), object(11)\n",
      "memory usage: 6.1+ KB\n"
     ]
    }
   ],
   "source": [
    "df_cus.info()"
   ]
  },
  {
   "cell_type": "markdown",
   "id": "0c8f8c8e-be22-4d16-a7d4-b413c0a06feb",
   "metadata": {},
   "source": [
    "### Data consistency checks"
   ]
  },
  {
   "cell_type": "code",
   "execution_count": 38,
   "id": "752757ad-1707-48e5-9742-71281bfb1f5a",
   "metadata": {},
   "outputs": [
    {
     "data": {
      "text/plain": [
       "customer_id        0\n",
       "first_name         0\n",
       "last_name          0\n",
       "company           49\n",
       "address            0\n",
       "city               0\n",
       "state             29\n",
       "country            0\n",
       "postal_code        4\n",
       "phone              1\n",
       "fax               47\n",
       "email              0\n",
       "support_rep_id     0\n",
       "dtype: int64"
      ]
     },
     "execution_count": 38,
     "metadata": {},
     "output_type": "execute_result"
    }
   ],
   "source": [
    "#Fnding null value \n",
    "df_cus.isnull().sum()"
   ]
  },
  {
   "cell_type": "code",
   "execution_count": 39,
   "id": "2ea26712-64ca-4375-beab-b7fc8d7b92d5",
   "metadata": {},
   "outputs": [],
   "source": [
    "#check nan value in company\n",
    "df_nan = df_cus[df_cus['company'].isnull() == True]"
   ]
  },
  {
   "cell_type": "markdown",
   "id": "3e70cb0e-35c9-4747-83b9-454bed20c59a",
   "metadata": {
    "tags": []
   },
   "source": [
    "df_nan"
   ]
  },
  {
   "cell_type": "code",
   "execution_count": 41,
   "id": "ded033f1-05d7-4b49-829a-a8b2635be72e",
   "metadata": {},
   "outputs": [],
   "source": [
    "#check nan value in fax\n",
    "df_nan1 = df_cus[df_cus['fax'].isnull() == True]"
   ]
  },
  {
   "cell_type": "markdown",
   "id": "237863d4-ccd4-4de6-92a6-853bc010c9bb",
   "metadata": {
    "tags": []
   },
   "source": [
    "df_nan1"
   ]
  },
  {
   "cell_type": "code",
   "execution_count": 43,
   "id": "70245991-6e16-47d1-a598-4aa213caaddd",
   "metadata": {},
   "outputs": [],
   "source": [
    "#check nan value in state\n",
    "df_nan2 = df_cus[df_cus['state'].isnull() == True]"
   ]
  },
  {
   "cell_type": "markdown",
   "id": "422667d8-759e-4f7b-96fd-684dfa4874ef",
   "metadata": {},
   "source": [
    "df_nan2"
   ]
  },
  {
   "cell_type": "markdown",
   "id": "0262edab-6f5d-4ba5-b4a3-cd4f886a923f",
   "metadata": {
    "tags": []
   },
   "source": [
    "We have 59 rows in customer table and those nan values in fax, state and company columns are more than half of overall data so we can't remove because it won't be enough data for our analysis"
   ]
  },
  {
   "cell_type": "code",
   "execution_count": 45,
   "id": "bda85df9-4156-4541-b169-9742e5c0c703",
   "metadata": {},
   "outputs": [],
   "source": [
    "#Finding duplicate value\n",
    "df_dup_cus = df_cus[df_cus.duplicated()]"
   ]
  },
  {
   "cell_type": "code",
   "execution_count": 46,
   "id": "2433c98b-c12d-4283-8d3d-888dc867da78",
   "metadata": {},
   "outputs": [
    {
     "data": {
      "text/html": [
       "<div>\n",
       "<style scoped>\n",
       "    .dataframe tbody tr th:only-of-type {\n",
       "        vertical-align: middle;\n",
       "    }\n",
       "\n",
       "    .dataframe tbody tr th {\n",
       "        vertical-align: top;\n",
       "    }\n",
       "\n",
       "    .dataframe thead th {\n",
       "        text-align: right;\n",
       "    }\n",
       "</style>\n",
       "<table border=\"1\" class=\"dataframe\">\n",
       "  <thead>\n",
       "    <tr style=\"text-align: right;\">\n",
       "      <th></th>\n",
       "      <th>customer_id</th>\n",
       "      <th>first_name</th>\n",
       "      <th>last_name</th>\n",
       "      <th>company</th>\n",
       "      <th>address</th>\n",
       "      <th>city</th>\n",
       "      <th>state</th>\n",
       "      <th>country</th>\n",
       "      <th>postal_code</th>\n",
       "      <th>phone</th>\n",
       "      <th>fax</th>\n",
       "      <th>email</th>\n",
       "      <th>support_rep_id</th>\n",
       "    </tr>\n",
       "  </thead>\n",
       "  <tbody>\n",
       "  </tbody>\n",
       "</table>\n",
       "</div>"
      ],
      "text/plain": [
       "Empty DataFrame\n",
       "Columns: [customer_id, first_name, last_name, company, address, city, state, country, postal_code, phone, fax, email, support_rep_id]\n",
       "Index: []"
      ]
     },
     "execution_count": 46,
     "metadata": {},
     "output_type": "execute_result"
    }
   ],
   "source": [
    "df_dup_cus"
   ]
  },
  {
   "cell_type": "markdown",
   "id": "2668b6fe-31d5-4fc6-865b-87a3ca341a45",
   "metadata": {},
   "source": [
    "There is no duplicate value"
   ]
  },
  {
   "cell_type": "code",
   "execution_count": 47,
   "id": "9a88d953-6784-43f5-b1d0-2e520943af1c",
   "metadata": {},
   "outputs": [
    {
     "name": "stdout",
     "output_type": "stream",
     "text": [
      "company\n",
      "state\n",
      "postal_code\n",
      "phone\n",
      "fax\n"
     ]
    }
   ],
   "source": [
    "#Check customer for mixed types\n",
    "for col in df_cus.columns.tolist():\n",
    "  weird = (df_cus[[col]].applymap(type) != df_cus[[col]].iloc[0].apply(type)).any(axis = 1)\n",
    "  if len (df_cus[weird]) > 0:\n",
    "    print (col)"
   ]
  },
  {
   "cell_type": "code",
   "execution_count": 48,
   "id": "20eb4bae-aaa6-47a7-8270-0194a8d00986",
   "metadata": {},
   "outputs": [
    {
     "name": "stdout",
     "output_type": "stream",
     "text": [
      "customer_id  consistent\n",
      "first_name  consistent\n",
      "last_name  consistent\n",
      "company  mixed\n",
      "address  consistent\n",
      "city  consistent\n",
      "state  mixed\n",
      "country  consistent\n",
      "postal_code  mixed\n",
      "phone  mixed\n",
      "fax  mixed\n",
      "email  consistent\n",
      "support_rep_id  consistent\n"
     ]
    }
   ],
   "source": [
    "#Print \"consistent\" if no mixed types\n",
    "for col in df_cus.columns.tolist():\n",
    "  weird = (df_cus[[col]].applymap(type) != df_cus[[col]].iloc[0].apply(type)).any(axis = 1)\n",
    "  if len (df_cus[weird]) > 0:\n",
    "    print (col, ' mixed')\n",
    "  else: print(col, ' consistent')"
   ]
  },
  {
   "cell_type": "code",
   "execution_count": 59,
   "id": "5763d4cf-4e94-4c6b-a4cf-74a554959cea",
   "metadata": {},
   "outputs": [
    {
     "data": {
      "text/plain": [
       "customer_id        int64\n",
       "first_name        object\n",
       "last_name         object\n",
       "company           object\n",
       "address           object\n",
       "city              object\n",
       "state             object\n",
       "country           object\n",
       "postal_code       object\n",
       "phone             object\n",
       "fax               object\n",
       "email             object\n",
       "support_rep_id     int64\n",
       "dtype: object"
      ]
     },
     "execution_count": 59,
     "metadata": {},
     "output_type": "execute_result"
    }
   ],
   "source": [
    "df_cus.dtypes"
   ]
  },
  {
   "cell_type": "code",
   "execution_count": 65,
   "id": "019354ae-e278-47a0-b810-ed2ed157881f",
   "metadata": {},
   "outputs": [],
   "source": [
    "df_cus['company'] = df_cus['company'].astype(str)\n",
    "df_cus['state'] = df_cus['state'].astype(str)\n",
    "df_cus['fax'] = df_cus['fax'].astype(str)\n",
    "df_cus['phone'] = df_cus['phone'].astype(str)\n",
    "df_cus['postal_code'] = df_cus['postal_code'].astype(str)"
   ]
  },
  {
   "cell_type": "code",
   "execution_count": 66,
   "id": "0c493d91-76d3-4d48-9919-9604d7c3cdd4",
   "metadata": {},
   "outputs": [
    {
     "name": "stdout",
     "output_type": "stream",
     "text": [
      "customer_id  consistent\n",
      "first_name  consistent\n",
      "last_name  consistent\n",
      "company  consistent\n",
      "address  consistent\n",
      "city  consistent\n",
      "state  consistent\n",
      "country  consistent\n",
      "postal_code  consistent\n",
      "phone  consistent\n",
      "fax  consistent\n",
      "email  consistent\n",
      "support_rep_id  consistent\n"
     ]
    }
   ],
   "source": [
    "#Print \"consistent\" if no mixed types\n",
    "for col in df_cus.columns.tolist():\n",
    "  weird = (df_cus[[col]].applymap(type) != df_cus[[col]].iloc[0].apply(type)).any(axis = 1)\n",
    "  if len (df_cus[weird]) > 0:\n",
    "    print (col, ' mixed')\n",
    "  else: print(col, ' consistent')"
   ]
  },
  {
   "cell_type": "code",
   "execution_count": 67,
   "id": "df866fe0-5da6-4116-ad22-1dae3f0d15fe",
   "metadata": {},
   "outputs": [
    {
     "name": "stdout",
     "output_type": "stream",
     "text": [
      "<class 'pandas.core.frame.DataFrame'>\n",
      "RangeIndex: 59 entries, 0 to 58\n",
      "Data columns (total 13 columns):\n",
      " #   Column          Non-Null Count  Dtype \n",
      "---  ------          --------------  ----- \n",
      " 0   customer_id     59 non-null     int64 \n",
      " 1   first_name      59 non-null     object\n",
      " 2   last_name       59 non-null     object\n",
      " 3   company         59 non-null     object\n",
      " 4   address         59 non-null     object\n",
      " 5   city            59 non-null     object\n",
      " 6   state           59 non-null     object\n",
      " 7   country         59 non-null     object\n",
      " 8   postal_code     59 non-null     object\n",
      " 9   phone           59 non-null     object\n",
      " 10  fax             59 non-null     object\n",
      " 11  email           59 non-null     object\n",
      " 12  support_rep_id  59 non-null     int64 \n",
      "dtypes: int64(2), object(11)\n",
      "memory usage: 6.1+ KB\n"
     ]
    }
   ],
   "source": [
    "df_cus.info()"
   ]
  },
  {
   "cell_type": "markdown",
   "id": "97150902-1d62-403e-93a3-38d0a330c874",
   "metadata": {},
   "source": [
    "### Data wrangling for invoice"
   ]
  },
  {
   "cell_type": "code",
   "execution_count": 75,
   "id": "3d879f25-d446-47bf-ab83-111fe56b41ce",
   "metadata": {},
   "outputs": [
    {
     "data": {
      "text/html": [
       "<div>\n",
       "<style scoped>\n",
       "    .dataframe tbody tr th:only-of-type {\n",
       "        vertical-align: middle;\n",
       "    }\n",
       "\n",
       "    .dataframe tbody tr th {\n",
       "        vertical-align: top;\n",
       "    }\n",
       "\n",
       "    .dataframe thead th {\n",
       "        text-align: right;\n",
       "    }\n",
       "</style>\n",
       "<table border=\"1\" class=\"dataframe\">\n",
       "  <thead>\n",
       "    <tr style=\"text-align: right;\">\n",
       "      <th></th>\n",
       "      <th>invoice_id</th>\n",
       "      <th>customer_id</th>\n",
       "      <th>invoice_date</th>\n",
       "      <th>billing_address</th>\n",
       "      <th>billing_city</th>\n",
       "      <th>billing_state</th>\n",
       "      <th>billing_country</th>\n",
       "      <th>billing_postal_code</th>\n",
       "      <th>total</th>\n",
       "    </tr>\n",
       "  </thead>\n",
       "  <tbody>\n",
       "    <tr>\n",
       "      <th>0</th>\n",
       "      <td>1</td>\n",
       "      <td>18</td>\n",
       "      <td>1/3/17 0:00</td>\n",
       "      <td>627 Broadway</td>\n",
       "      <td>New York</td>\n",
       "      <td>NY</td>\n",
       "      <td>USA</td>\n",
       "      <td>10012-2612</td>\n",
       "      <td>15.84</td>\n",
       "    </tr>\n",
       "    <tr>\n",
       "      <th>1</th>\n",
       "      <td>2</td>\n",
       "      <td>30</td>\n",
       "      <td>1/3/17 0:00</td>\n",
       "      <td>230 Elgin Street</td>\n",
       "      <td>Ottawa</td>\n",
       "      <td>ON</td>\n",
       "      <td>Canada</td>\n",
       "      <td>K2P 1L7</td>\n",
       "      <td>9.90</td>\n",
       "    </tr>\n",
       "    <tr>\n",
       "      <th>2</th>\n",
       "      <td>3</td>\n",
       "      <td>40</td>\n",
       "      <td>1/5/17 0:00</td>\n",
       "      <td>8, Rue Hanovre</td>\n",
       "      <td>Paris</td>\n",
       "      <td>None</td>\n",
       "      <td>France</td>\n",
       "      <td>75002</td>\n",
       "      <td>1.98</td>\n",
       "    </tr>\n",
       "    <tr>\n",
       "      <th>3</th>\n",
       "      <td>4</td>\n",
       "      <td>18</td>\n",
       "      <td>1/6/17 0:00</td>\n",
       "      <td>627 Broadway</td>\n",
       "      <td>New York</td>\n",
       "      <td>NY</td>\n",
       "      <td>USA</td>\n",
       "      <td>10012-2612</td>\n",
       "      <td>7.92</td>\n",
       "    </tr>\n",
       "    <tr>\n",
       "      <th>4</th>\n",
       "      <td>5</td>\n",
       "      <td>27</td>\n",
       "      <td>1/7/17 0:00</td>\n",
       "      <td>1033 N Park Ave</td>\n",
       "      <td>Tucson</td>\n",
       "      <td>AZ</td>\n",
       "      <td>USA</td>\n",
       "      <td>85719</td>\n",
       "      <td>16.83</td>\n",
       "    </tr>\n",
       "  </tbody>\n",
       "</table>\n",
       "</div>"
      ],
      "text/plain": [
       "   invoice_id  customer_id invoice_date   billing_address billing_city  \\\n",
       "0           1           18  1/3/17 0:00      627 Broadway     New York   \n",
       "1           2           30  1/3/17 0:00  230 Elgin Street       Ottawa   \n",
       "2           3           40  1/5/17 0:00    8, Rue Hanovre        Paris   \n",
       "3           4           18  1/6/17 0:00      627 Broadway     New York   \n",
       "4           5           27  1/7/17 0:00   1033 N Park Ave       Tucson   \n",
       "\n",
       "  billing_state billing_country billing_postal_code  total  \n",
       "0            NY             USA          10012-2612  15.84  \n",
       "1            ON          Canada             K2P 1L7   9.90  \n",
       "2          None          France               75002   1.98  \n",
       "3            NY             USA          10012-2612   7.92  \n",
       "4            AZ             USA               85719  16.83  "
      ]
     },
     "execution_count": 75,
     "metadata": {},
     "output_type": "execute_result"
    }
   ],
   "source": [
    "df_inv.head()"
   ]
  },
  {
   "cell_type": "code",
   "execution_count": 76,
   "id": "ed2b5922-c497-4e05-8861-7089871fcd7b",
   "metadata": {},
   "outputs": [
    {
     "data": {
      "text/plain": [
       "(614, 9)"
      ]
     },
     "execution_count": 76,
     "metadata": {},
     "output_type": "execute_result"
    }
   ],
   "source": [
    "df_inv.shape"
   ]
  },
  {
   "cell_type": "code",
   "execution_count": 77,
   "id": "90c7fea5-d15b-4eb4-87cf-f7d6a6ae1d05",
   "metadata": {},
   "outputs": [
    {
     "data": {
      "text/html": [
       "<div>\n",
       "<style scoped>\n",
       "    .dataframe tbody tr th:only-of-type {\n",
       "        vertical-align: middle;\n",
       "    }\n",
       "\n",
       "    .dataframe tbody tr th {\n",
       "        vertical-align: top;\n",
       "    }\n",
       "\n",
       "    .dataframe thead th {\n",
       "        text-align: right;\n",
       "    }\n",
       "</style>\n",
       "<table border=\"1\" class=\"dataframe\">\n",
       "  <thead>\n",
       "    <tr style=\"text-align: right;\">\n",
       "      <th></th>\n",
       "      <th>invoice_id</th>\n",
       "      <th>customer_id</th>\n",
       "      <th>total</th>\n",
       "    </tr>\n",
       "  </thead>\n",
       "  <tbody>\n",
       "    <tr>\n",
       "      <th>count</th>\n",
       "      <td>614.000000</td>\n",
       "      <td>614.000000</td>\n",
       "      <td>614.000000</td>\n",
       "    </tr>\n",
       "    <tr>\n",
       "      <th>mean</th>\n",
       "      <td>307.500000</td>\n",
       "      <td>29.517915</td>\n",
       "      <td>7.670081</td>\n",
       "    </tr>\n",
       "    <tr>\n",
       "      <th>std</th>\n",
       "      <td>177.390811</td>\n",
       "      <td>17.095991</td>\n",
       "      <td>4.218043</td>\n",
       "    </tr>\n",
       "    <tr>\n",
       "      <th>min</th>\n",
       "      <td>1.000000</td>\n",
       "      <td>1.000000</td>\n",
       "      <td>0.990000</td>\n",
       "    </tr>\n",
       "    <tr>\n",
       "      <th>25%</th>\n",
       "      <td>154.250000</td>\n",
       "      <td>14.000000</td>\n",
       "      <td>3.960000</td>\n",
       "    </tr>\n",
       "    <tr>\n",
       "      <th>50%</th>\n",
       "      <td>307.500000</td>\n",
       "      <td>30.000000</td>\n",
       "      <td>7.920000</td>\n",
       "    </tr>\n",
       "    <tr>\n",
       "      <th>75%</th>\n",
       "      <td>460.750000</td>\n",
       "      <td>44.000000</td>\n",
       "      <td>9.900000</td>\n",
       "    </tr>\n",
       "    <tr>\n",
       "      <th>max</th>\n",
       "      <td>614.000000</td>\n",
       "      <td>59.000000</td>\n",
       "      <td>23.760000</td>\n",
       "    </tr>\n",
       "  </tbody>\n",
       "</table>\n",
       "</div>"
      ],
      "text/plain": [
       "       invoice_id  customer_id       total\n",
       "count  614.000000   614.000000  614.000000\n",
       "mean   307.500000    29.517915    7.670081\n",
       "std    177.390811    17.095991    4.218043\n",
       "min      1.000000     1.000000    0.990000\n",
       "25%    154.250000    14.000000    3.960000\n",
       "50%    307.500000    30.000000    7.920000\n",
       "75%    460.750000    44.000000    9.900000\n",
       "max    614.000000    59.000000   23.760000"
      ]
     },
     "execution_count": 77,
     "metadata": {},
     "output_type": "execute_result"
    }
   ],
   "source": [
    "df_inv.describe()"
   ]
  },
  {
   "cell_type": "code",
   "execution_count": 78,
   "id": "b4840723-c6a4-46f1-a6d4-52cd588663c3",
   "metadata": {},
   "outputs": [
    {
     "name": "stdout",
     "output_type": "stream",
     "text": [
      "<class 'pandas.core.frame.DataFrame'>\n",
      "RangeIndex: 614 entries, 0 to 613\n",
      "Data columns (total 9 columns):\n",
      " #   Column               Non-Null Count  Dtype  \n",
      "---  ------               --------------  -----  \n",
      " 0   invoice_id           614 non-null    int64  \n",
      " 1   customer_id          614 non-null    int64  \n",
      " 2   invoice_date         614 non-null    object \n",
      " 3   billing_address      614 non-null    object \n",
      " 4   billing_city         614 non-null    object \n",
      " 5   billing_state        614 non-null    object \n",
      " 6   billing_country      614 non-null    object \n",
      " 7   billing_postal_code  614 non-null    object \n",
      " 8   total                614 non-null    float64\n",
      "dtypes: float64(1), int64(2), object(6)\n",
      "memory usage: 43.3+ KB\n"
     ]
    }
   ],
   "source": [
    "df_inv.info()"
   ]
  },
  {
   "cell_type": "markdown",
   "id": "c2980d85-f9f4-4e90-94d4-61d600f0033f",
   "metadata": {
    "tags": []
   },
   "source": [
    "### Data consistency checks"
   ]
  },
  {
   "cell_type": "code",
   "execution_count": 79,
   "id": "c4f50aae-1f6c-4a5d-9a23-8467332a9022",
   "metadata": {},
   "outputs": [
    {
     "data": {
      "text/plain": [
       "invoice_id             0\n",
       "customer_id            0\n",
       "invoice_date           0\n",
       "billing_address        0\n",
       "billing_city           0\n",
       "billing_state          0\n",
       "billing_country        0\n",
       "billing_postal_code    0\n",
       "total                  0\n",
       "dtype: int64"
      ]
     },
     "execution_count": 79,
     "metadata": {},
     "output_type": "execute_result"
    }
   ],
   "source": [
    "#Fnding null value\n",
    "df_inv.isnull().sum()"
   ]
  },
  {
   "cell_type": "markdown",
   "id": "0595896b-4c5b-4bb0-92fd-04064c223a9b",
   "metadata": {
    "tags": []
   },
   "source": [
    "no missing value"
   ]
  },
  {
   "cell_type": "code",
   "execution_count": 81,
   "id": "2d5a0a58-a7e4-48fb-94d2-cbfd0e74f4eb",
   "metadata": {},
   "outputs": [],
   "source": [
    "#Finding duplicate value\n",
    "df_dup_inv = df_inv[df_inv.duplicated()]"
   ]
  },
  {
   "cell_type": "code",
   "execution_count": 82,
   "id": "1e777dbd-2b71-4606-8097-b22cab41490c",
   "metadata": {},
   "outputs": [
    {
     "data": {
      "text/html": [
       "<div>\n",
       "<style scoped>\n",
       "    .dataframe tbody tr th:only-of-type {\n",
       "        vertical-align: middle;\n",
       "    }\n",
       "\n",
       "    .dataframe tbody tr th {\n",
       "        vertical-align: top;\n",
       "    }\n",
       "\n",
       "    .dataframe thead th {\n",
       "        text-align: right;\n",
       "    }\n",
       "</style>\n",
       "<table border=\"1\" class=\"dataframe\">\n",
       "  <thead>\n",
       "    <tr style=\"text-align: right;\">\n",
       "      <th></th>\n",
       "      <th>invoice_id</th>\n",
       "      <th>customer_id</th>\n",
       "      <th>invoice_date</th>\n",
       "      <th>billing_address</th>\n",
       "      <th>billing_city</th>\n",
       "      <th>billing_state</th>\n",
       "      <th>billing_country</th>\n",
       "      <th>billing_postal_code</th>\n",
       "      <th>total</th>\n",
       "    </tr>\n",
       "  </thead>\n",
       "  <tbody>\n",
       "  </tbody>\n",
       "</table>\n",
       "</div>"
      ],
      "text/plain": [
       "Empty DataFrame\n",
       "Columns: [invoice_id, customer_id, invoice_date, billing_address, billing_city, billing_state, billing_country, billing_postal_code, total]\n",
       "Index: []"
      ]
     },
     "execution_count": 82,
     "metadata": {},
     "output_type": "execute_result"
    }
   ],
   "source": [
    "df_dup_inv"
   ]
  },
  {
   "cell_type": "markdown",
   "id": "6a475598-420a-4562-98b1-f7bde22fba3c",
   "metadata": {},
   "source": [
    "no duplicate value"
   ]
  },
  {
   "cell_type": "code",
   "execution_count": 83,
   "id": "85d1cbc4-849f-4860-9ded-24171579b3aa",
   "metadata": {},
   "outputs": [],
   "source": [
    "#Check customer for mixed types\n",
    "for col in df_inv.columns.tolist():\n",
    "  weird = (df_inv[[col]].applymap(type) != df_inv[[col]].iloc[0].apply(type)).any(axis = 1)\n",
    "  if len (df_inv[weird]) > 0:\n",
    "    print (col)"
   ]
  },
  {
   "cell_type": "code",
   "execution_count": 84,
   "id": "517dc60a-12b6-4171-a0d2-1f3c47e9f6c6",
   "metadata": {},
   "outputs": [
    {
     "name": "stdout",
     "output_type": "stream",
     "text": [
      "invoice_id  consistent\n",
      "customer_id  consistent\n",
      "invoice_date  consistent\n",
      "billing_address  consistent\n",
      "billing_city  consistent\n",
      "billing_state  consistent\n",
      "billing_country  consistent\n",
      "billing_postal_code  consistent\n",
      "total  consistent\n"
     ]
    }
   ],
   "source": [
    "#Print \"consistent\" if no mixed types\n",
    "for col in df_inv.columns.tolist():\n",
    "  weird = (df_inv[[col]].applymap(type) != df_inv[[col]].iloc[0].apply(type)).any(axis = 1)\n",
    "  if len (df_inv[weird]) > 0:\n",
    "    print (col, ' mixed')\n",
    "  else: print(col, ' consistent')"
   ]
  },
  {
   "cell_type": "code",
   "execution_count": null,
   "id": "db403895-09c6-466b-93a9-0f7e58872df2",
   "metadata": {},
   "outputs": [],
   "source": [
    "### Data wrangling for invoice_line"
   ]
  },
  {
   "cell_type": "code",
   "execution_count": 86,
   "id": "8ff0469f-1190-402f-af77-1eca4dd12876",
   "metadata": {},
   "outputs": [
    {
     "data": {
      "text/html": [
       "<div>\n",
       "<style scoped>\n",
       "    .dataframe tbody tr th:only-of-type {\n",
       "        vertical-align: middle;\n",
       "    }\n",
       "\n",
       "    .dataframe tbody tr th {\n",
       "        vertical-align: top;\n",
       "    }\n",
       "\n",
       "    .dataframe thead th {\n",
       "        text-align: right;\n",
       "    }\n",
       "</style>\n",
       "<table border=\"1\" class=\"dataframe\">\n",
       "  <thead>\n",
       "    <tr style=\"text-align: right;\">\n",
       "      <th></th>\n",
       "      <th>invoice_line_id</th>\n",
       "      <th>invoice_id</th>\n",
       "      <th>track_id</th>\n",
       "      <th>unit_price</th>\n",
       "      <th>quantity</th>\n",
       "    </tr>\n",
       "  </thead>\n",
       "  <tbody>\n",
       "    <tr>\n",
       "      <th>0</th>\n",
       "      <td>1</td>\n",
       "      <td>1</td>\n",
       "      <td>1158</td>\n",
       "      <td>0.99</td>\n",
       "      <td>1</td>\n",
       "    </tr>\n",
       "    <tr>\n",
       "      <th>1</th>\n",
       "      <td>2</td>\n",
       "      <td>1</td>\n",
       "      <td>1159</td>\n",
       "      <td>0.99</td>\n",
       "      <td>1</td>\n",
       "    </tr>\n",
       "    <tr>\n",
       "      <th>2</th>\n",
       "      <td>3</td>\n",
       "      <td>1</td>\n",
       "      <td>1160</td>\n",
       "      <td>0.99</td>\n",
       "      <td>1</td>\n",
       "    </tr>\n",
       "    <tr>\n",
       "      <th>3</th>\n",
       "      <td>4</td>\n",
       "      <td>1</td>\n",
       "      <td>1161</td>\n",
       "      <td>0.99</td>\n",
       "      <td>1</td>\n",
       "    </tr>\n",
       "    <tr>\n",
       "      <th>4</th>\n",
       "      <td>5</td>\n",
       "      <td>1</td>\n",
       "      <td>1162</td>\n",
       "      <td>0.99</td>\n",
       "      <td>1</td>\n",
       "    </tr>\n",
       "  </tbody>\n",
       "</table>\n",
       "</div>"
      ],
      "text/plain": [
       "   invoice_line_id  invoice_id  track_id  unit_price  quantity\n",
       "0                1           1      1158        0.99         1\n",
       "1                2           1      1159        0.99         1\n",
       "2                3           1      1160        0.99         1\n",
       "3                4           1      1161        0.99         1\n",
       "4                5           1      1162        0.99         1"
      ]
     },
     "execution_count": 86,
     "metadata": {},
     "output_type": "execute_result"
    }
   ],
   "source": [
    "df_invl.head()"
   ]
  },
  {
   "cell_type": "code",
   "execution_count": 87,
   "id": "379046dc-a839-4964-a6bb-a903d1b43520",
   "metadata": {},
   "outputs": [
    {
     "data": {
      "text/plain": [
       "(4757, 5)"
      ]
     },
     "execution_count": 87,
     "metadata": {},
     "output_type": "execute_result"
    }
   ],
   "source": [
    "df_invl.shape"
   ]
  },
  {
   "cell_type": "code",
   "execution_count": 88,
   "id": "b24b6bc4-7d6d-4323-a800-c7e727c31395",
   "metadata": {},
   "outputs": [
    {
     "data": {
      "text/html": [
       "<div>\n",
       "<style scoped>\n",
       "    .dataframe tbody tr th:only-of-type {\n",
       "        vertical-align: middle;\n",
       "    }\n",
       "\n",
       "    .dataframe tbody tr th {\n",
       "        vertical-align: top;\n",
       "    }\n",
       "\n",
       "    .dataframe thead th {\n",
       "        text-align: right;\n",
       "    }\n",
       "</style>\n",
       "<table border=\"1\" class=\"dataframe\">\n",
       "  <thead>\n",
       "    <tr style=\"text-align: right;\">\n",
       "      <th></th>\n",
       "      <th>invoice_line_id</th>\n",
       "      <th>invoice_id</th>\n",
       "      <th>track_id</th>\n",
       "      <th>unit_price</th>\n",
       "      <th>quantity</th>\n",
       "    </tr>\n",
       "  </thead>\n",
       "  <tbody>\n",
       "    <tr>\n",
       "      <th>count</th>\n",
       "      <td>4757.000000</td>\n",
       "      <td>4757.000000</td>\n",
       "      <td>4757.000000</td>\n",
       "      <td>4.757000e+03</td>\n",
       "      <td>4757.0</td>\n",
       "    </tr>\n",
       "    <tr>\n",
       "      <th>mean</th>\n",
       "      <td>2379.000000</td>\n",
       "      <td>305.878915</td>\n",
       "      <td>1764.157452</td>\n",
       "      <td>9.900000e-01</td>\n",
       "      <td>1.0</td>\n",
       "    </tr>\n",
       "    <tr>\n",
       "      <th>std</th>\n",
       "      <td>1373.371945</td>\n",
       "      <td>177.748265</td>\n",
       "      <td>1004.400012</td>\n",
       "      <td>1.195836e-13</td>\n",
       "      <td>0.0</td>\n",
       "    </tr>\n",
       "    <tr>\n",
       "      <th>min</th>\n",
       "      <td>1.000000</td>\n",
       "      <td>1.000000</td>\n",
       "      <td>1.000000</td>\n",
       "      <td>9.900000e-01</td>\n",
       "      <td>1.0</td>\n",
       "    </tr>\n",
       "    <tr>\n",
       "      <th>25%</th>\n",
       "      <td>1190.000000</td>\n",
       "      <td>151.000000</td>\n",
       "      <td>1036.000000</td>\n",
       "      <td>9.900000e-01</td>\n",
       "      <td>1.0</td>\n",
       "    </tr>\n",
       "    <tr>\n",
       "      <th>50%</th>\n",
       "      <td>2379.000000</td>\n",
       "      <td>306.000000</td>\n",
       "      <td>1850.000000</td>\n",
       "      <td>9.900000e-01</td>\n",
       "      <td>1.0</td>\n",
       "    </tr>\n",
       "    <tr>\n",
       "      <th>75%</th>\n",
       "      <td>3568.000000</td>\n",
       "      <td>460.000000</td>\n",
       "      <td>2562.000000</td>\n",
       "      <td>9.900000e-01</td>\n",
       "      <td>1.0</td>\n",
       "    </tr>\n",
       "    <tr>\n",
       "      <th>max</th>\n",
       "      <td>4757.000000</td>\n",
       "      <td>614.000000</td>\n",
       "      <td>3500.000000</td>\n",
       "      <td>9.900000e-01</td>\n",
       "      <td>1.0</td>\n",
       "    </tr>\n",
       "  </tbody>\n",
       "</table>\n",
       "</div>"
      ],
      "text/plain": [
       "       invoice_line_id   invoice_id     track_id    unit_price  quantity\n",
       "count      4757.000000  4757.000000  4757.000000  4.757000e+03    4757.0\n",
       "mean       2379.000000   305.878915  1764.157452  9.900000e-01       1.0\n",
       "std        1373.371945   177.748265  1004.400012  1.195836e-13       0.0\n",
       "min           1.000000     1.000000     1.000000  9.900000e-01       1.0\n",
       "25%        1190.000000   151.000000  1036.000000  9.900000e-01       1.0\n",
       "50%        2379.000000   306.000000  1850.000000  9.900000e-01       1.0\n",
       "75%        3568.000000   460.000000  2562.000000  9.900000e-01       1.0\n",
       "max        4757.000000   614.000000  3500.000000  9.900000e-01       1.0"
      ]
     },
     "execution_count": 88,
     "metadata": {},
     "output_type": "execute_result"
    }
   ],
   "source": [
    "df_invl.describe()\n"
   ]
  },
  {
   "cell_type": "code",
   "execution_count": 89,
   "id": "cd9277f2-4f1a-4465-a54a-42fcf91a224c",
   "metadata": {},
   "outputs": [
    {
     "name": "stdout",
     "output_type": "stream",
     "text": [
      "<class 'pandas.core.frame.DataFrame'>\n",
      "RangeIndex: 4757 entries, 0 to 4756\n",
      "Data columns (total 5 columns):\n",
      " #   Column           Non-Null Count  Dtype  \n",
      "---  ------           --------------  -----  \n",
      " 0   invoice_line_id  4757 non-null   int64  \n",
      " 1   invoice_id       4757 non-null   int64  \n",
      " 2   track_id         4757 non-null   int64  \n",
      " 3   unit_price       4757 non-null   float64\n",
      " 4   quantity         4757 non-null   int64  \n",
      "dtypes: float64(1), int64(4)\n",
      "memory usage: 185.9 KB\n"
     ]
    }
   ],
   "source": [
    "df_invl.info()"
   ]
  },
  {
   "cell_type": "markdown",
   "id": "85cf6ee1-7cdd-4337-8be8-85c1bfa53a6f",
   "metadata": {},
   "source": [
    "### Data consistency checks"
   ]
  },
  {
   "cell_type": "code",
   "execution_count": 91,
   "id": "9b0a9784-985b-4887-a187-c303cbb56bf8",
   "metadata": {},
   "outputs": [
    {
     "data": {
      "text/plain": [
       "invoice_line_id    0\n",
       "invoice_id         0\n",
       "track_id           0\n",
       "unit_price         0\n",
       "quantity           0\n",
       "dtype: int64"
      ]
     },
     "execution_count": 91,
     "metadata": {},
     "output_type": "execute_result"
    }
   ],
   "source": [
    "#Fnding null value \n",
    "df_invl.isnull().sum()"
   ]
  },
  {
   "cell_type": "code",
   "execution_count": 92,
   "id": "778965cd-673d-4194-8e7d-a3d65301dfbe",
   "metadata": {},
   "outputs": [],
   "source": [
    "#Finding duplicate value\n",
    "df_dup_invl = df_invl[df_invl.duplicated()]"
   ]
  },
  {
   "cell_type": "code",
   "execution_count": 93,
   "id": "ba425be4-e13b-4e2e-9787-c5a81bf89303",
   "metadata": {},
   "outputs": [
    {
     "data": {
      "text/html": [
       "<div>\n",
       "<style scoped>\n",
       "    .dataframe tbody tr th:only-of-type {\n",
       "        vertical-align: middle;\n",
       "    }\n",
       "\n",
       "    .dataframe tbody tr th {\n",
       "        vertical-align: top;\n",
       "    }\n",
       "\n",
       "    .dataframe thead th {\n",
       "        text-align: right;\n",
       "    }\n",
       "</style>\n",
       "<table border=\"1\" class=\"dataframe\">\n",
       "  <thead>\n",
       "    <tr style=\"text-align: right;\">\n",
       "      <th></th>\n",
       "      <th>invoice_line_id</th>\n",
       "      <th>invoice_id</th>\n",
       "      <th>track_id</th>\n",
       "      <th>unit_price</th>\n",
       "      <th>quantity</th>\n",
       "    </tr>\n",
       "  </thead>\n",
       "  <tbody>\n",
       "  </tbody>\n",
       "</table>\n",
       "</div>"
      ],
      "text/plain": [
       "Empty DataFrame\n",
       "Columns: [invoice_line_id, invoice_id, track_id, unit_price, quantity]\n",
       "Index: []"
      ]
     },
     "execution_count": 93,
     "metadata": {},
     "output_type": "execute_result"
    }
   ],
   "source": [
    "df_dup_invl"
   ]
  },
  {
   "cell_type": "code",
   "execution_count": 94,
   "id": "171d04a5-55db-483d-ab5b-821ed868d3bd",
   "metadata": {},
   "outputs": [
    {
     "name": "stdout",
     "output_type": "stream",
     "text": [
      "invoice_line_id  consistent\n",
      "invoice_id  consistent\n",
      "track_id  consistent\n",
      "unit_price  consistent\n",
      "quantity  consistent\n"
     ]
    }
   ],
   "source": [
    "#Print \"consistent\" if no mixed types\n",
    "for col in df_invl.columns.tolist():\n",
    "  weird = (df_invl[[col]].applymap(type) != df_invl[[col]].iloc[0].apply(type)).any(axis = 1)\n",
    "  if len (df_invl[weird]) > 0:\n",
    "    print (col, ' mixed')\n",
    "  else: print(col, ' consistent')"
   ]
  },
  {
   "cell_type": "markdown",
   "id": "9e0c799f-698d-4456-991a-b9e2c2d9517b",
   "metadata": {
    "tags": []
   },
   "source": [
    "### Data wrangling for track"
   ]
  },
  {
   "cell_type": "code",
   "execution_count": 95,
   "id": "043a103d-d6da-4a85-9669-3701968accfa",
   "metadata": {},
   "outputs": [
    {
     "data": {
      "text/html": [
       "<div>\n",
       "<style scoped>\n",
       "    .dataframe tbody tr th:only-of-type {\n",
       "        vertical-align: middle;\n",
       "    }\n",
       "\n",
       "    .dataframe tbody tr th {\n",
       "        vertical-align: top;\n",
       "    }\n",
       "\n",
       "    .dataframe thead th {\n",
       "        text-align: right;\n",
       "    }\n",
       "</style>\n",
       "<table border=\"1\" class=\"dataframe\">\n",
       "  <thead>\n",
       "    <tr style=\"text-align: right;\">\n",
       "      <th></th>\n",
       "      <th>track_id</th>\n",
       "      <th>name</th>\n",
       "      <th>album_id</th>\n",
       "      <th>media_type_id</th>\n",
       "      <th>genre_id</th>\n",
       "      <th>composer</th>\n",
       "      <th>milliseconds</th>\n",
       "      <th>bytes</th>\n",
       "      <th>unit_price</th>\n",
       "    </tr>\n",
       "  </thead>\n",
       "  <tbody>\n",
       "    <tr>\n",
       "      <th>0</th>\n",
       "      <td>1</td>\n",
       "      <td>For Those About To Rock (We Salute You)</td>\n",
       "      <td>1</td>\n",
       "      <td>1</td>\n",
       "      <td>1</td>\n",
       "      <td>Angus Young, Malcolm Young, Brian Johnson</td>\n",
       "      <td>343719</td>\n",
       "      <td>11170334</td>\n",
       "      <td>0.99</td>\n",
       "    </tr>\n",
       "    <tr>\n",
       "      <th>1</th>\n",
       "      <td>2</td>\n",
       "      <td>Balls to the Wall</td>\n",
       "      <td>2</td>\n",
       "      <td>2</td>\n",
       "      <td>1</td>\n",
       "      <td>NaN</td>\n",
       "      <td>342562</td>\n",
       "      <td>5510424</td>\n",
       "      <td>0.99</td>\n",
       "    </tr>\n",
       "    <tr>\n",
       "      <th>2</th>\n",
       "      <td>3</td>\n",
       "      <td>Fast As a Shark</td>\n",
       "      <td>3</td>\n",
       "      <td>2</td>\n",
       "      <td>1</td>\n",
       "      <td>F. Baltes, S. Kaufman, U. Dirkscneider &amp; W. Ho...</td>\n",
       "      <td>230619</td>\n",
       "      <td>3990994</td>\n",
       "      <td>0.99</td>\n",
       "    </tr>\n",
       "    <tr>\n",
       "      <th>3</th>\n",
       "      <td>4</td>\n",
       "      <td>Restless and Wild</td>\n",
       "      <td>3</td>\n",
       "      <td>2</td>\n",
       "      <td>1</td>\n",
       "      <td>F. Baltes, R.A. Smith-Diesel, S. Kaufman, U. D...</td>\n",
       "      <td>252051</td>\n",
       "      <td>4331779</td>\n",
       "      <td>0.99</td>\n",
       "    </tr>\n",
       "    <tr>\n",
       "      <th>4</th>\n",
       "      <td>5</td>\n",
       "      <td>Princess of the Dawn</td>\n",
       "      <td>3</td>\n",
       "      <td>2</td>\n",
       "      <td>1</td>\n",
       "      <td>Deaffy &amp; R.A. Smith-Diesel</td>\n",
       "      <td>375418</td>\n",
       "      <td>6290521</td>\n",
       "      <td>0.99</td>\n",
       "    </tr>\n",
       "  </tbody>\n",
       "</table>\n",
       "</div>"
      ],
      "text/plain": [
       "   track_id                                     name  album_id  media_type_id  \\\n",
       "0         1  For Those About To Rock (We Salute You)         1              1   \n",
       "1         2                        Balls to the Wall         2              2   \n",
       "2         3                          Fast As a Shark         3              2   \n",
       "3         4                        Restless and Wild         3              2   \n",
       "4         5                     Princess of the Dawn         3              2   \n",
       "\n",
       "   genre_id                                           composer  milliseconds  \\\n",
       "0         1          Angus Young, Malcolm Young, Brian Johnson        343719   \n",
       "1         1                                                NaN        342562   \n",
       "2         1  F. Baltes, S. Kaufman, U. Dirkscneider & W. Ho...        230619   \n",
       "3         1  F. Baltes, R.A. Smith-Diesel, S. Kaufman, U. D...        252051   \n",
       "4         1                         Deaffy & R.A. Smith-Diesel        375418   \n",
       "\n",
       "      bytes  unit_price  \n",
       "0  11170334        0.99  \n",
       "1   5510424        0.99  \n",
       "2   3990994        0.99  \n",
       "3   4331779        0.99  \n",
       "4   6290521        0.99  "
      ]
     },
     "execution_count": 95,
     "metadata": {},
     "output_type": "execute_result"
    }
   ],
   "source": [
    "df_tr.head()"
   ]
  },
  {
   "cell_type": "code",
   "execution_count": 96,
   "id": "1ce0a098-a8f3-4ba9-a758-40c2377d4091",
   "metadata": {},
   "outputs": [
    {
     "data": {
      "text/plain": [
       "(3503, 9)"
      ]
     },
     "execution_count": 96,
     "metadata": {},
     "output_type": "execute_result"
    }
   ],
   "source": [
    "df_tr.shape"
   ]
  },
  {
   "cell_type": "code",
   "execution_count": 97,
   "id": "4f322a78-e338-4494-8f7f-496155385604",
   "metadata": {},
   "outputs": [
    {
     "data": {
      "text/html": [
       "<div>\n",
       "<style scoped>\n",
       "    .dataframe tbody tr th:only-of-type {\n",
       "        vertical-align: middle;\n",
       "    }\n",
       "\n",
       "    .dataframe tbody tr th {\n",
       "        vertical-align: top;\n",
       "    }\n",
       "\n",
       "    .dataframe thead th {\n",
       "        text-align: right;\n",
       "    }\n",
       "</style>\n",
       "<table border=\"1\" class=\"dataframe\">\n",
       "  <thead>\n",
       "    <tr style=\"text-align: right;\">\n",
       "      <th></th>\n",
       "      <th>track_id</th>\n",
       "      <th>album_id</th>\n",
       "      <th>media_type_id</th>\n",
       "      <th>genre_id</th>\n",
       "      <th>milliseconds</th>\n",
       "      <th>bytes</th>\n",
       "      <th>unit_price</th>\n",
       "    </tr>\n",
       "  </thead>\n",
       "  <tbody>\n",
       "    <tr>\n",
       "      <th>count</th>\n",
       "      <td>3503.000000</td>\n",
       "      <td>3503.000000</td>\n",
       "      <td>3503.000000</td>\n",
       "      <td>3503.000000</td>\n",
       "      <td>3.503000e+03</td>\n",
       "      <td>3.503000e+03</td>\n",
       "      <td>3503.000000</td>\n",
       "    </tr>\n",
       "    <tr>\n",
       "      <th>mean</th>\n",
       "      <td>1752.000000</td>\n",
       "      <td>140.929489</td>\n",
       "      <td>1.208393</td>\n",
       "      <td>5.725378</td>\n",
       "      <td>3.935992e+05</td>\n",
       "      <td>3.351021e+07</td>\n",
       "      <td>1.050805</td>\n",
       "    </tr>\n",
       "    <tr>\n",
       "      <th>std</th>\n",
       "      <td>1011.373324</td>\n",
       "      <td>81.775395</td>\n",
       "      <td>0.580443</td>\n",
       "      <td>6.190204</td>\n",
       "      <td>5.350054e+05</td>\n",
       "      <td>1.053925e+08</td>\n",
       "      <td>0.239006</td>\n",
       "    </tr>\n",
       "    <tr>\n",
       "      <th>min</th>\n",
       "      <td>1.000000</td>\n",
       "      <td>1.000000</td>\n",
       "      <td>1.000000</td>\n",
       "      <td>1.000000</td>\n",
       "      <td>1.071000e+03</td>\n",
       "      <td>3.874700e+04</td>\n",
       "      <td>0.990000</td>\n",
       "    </tr>\n",
       "    <tr>\n",
       "      <th>25%</th>\n",
       "      <td>876.500000</td>\n",
       "      <td>70.500000</td>\n",
       "      <td>1.000000</td>\n",
       "      <td>1.000000</td>\n",
       "      <td>2.072810e+05</td>\n",
       "      <td>6.342566e+06</td>\n",
       "      <td>0.990000</td>\n",
       "    </tr>\n",
       "    <tr>\n",
       "      <th>50%</th>\n",
       "      <td>1752.000000</td>\n",
       "      <td>141.000000</td>\n",
       "      <td>1.000000</td>\n",
       "      <td>3.000000</td>\n",
       "      <td>2.556340e+05</td>\n",
       "      <td>8.107896e+06</td>\n",
       "      <td>0.990000</td>\n",
       "    </tr>\n",
       "    <tr>\n",
       "      <th>75%</th>\n",
       "      <td>2627.500000</td>\n",
       "      <td>212.000000</td>\n",
       "      <td>1.000000</td>\n",
       "      <td>7.000000</td>\n",
       "      <td>3.216450e+05</td>\n",
       "      <td>1.026679e+07</td>\n",
       "      <td>0.990000</td>\n",
       "    </tr>\n",
       "    <tr>\n",
       "      <th>max</th>\n",
       "      <td>3503.000000</td>\n",
       "      <td>347.000000</td>\n",
       "      <td>5.000000</td>\n",
       "      <td>25.000000</td>\n",
       "      <td>5.286953e+06</td>\n",
       "      <td>1.059546e+09</td>\n",
       "      <td>1.990000</td>\n",
       "    </tr>\n",
       "  </tbody>\n",
       "</table>\n",
       "</div>"
      ],
      "text/plain": [
       "          track_id     album_id  media_type_id     genre_id  milliseconds  \\\n",
       "count  3503.000000  3503.000000    3503.000000  3503.000000  3.503000e+03   \n",
       "mean   1752.000000   140.929489       1.208393     5.725378  3.935992e+05   \n",
       "std    1011.373324    81.775395       0.580443     6.190204  5.350054e+05   \n",
       "min       1.000000     1.000000       1.000000     1.000000  1.071000e+03   \n",
       "25%     876.500000    70.500000       1.000000     1.000000  2.072810e+05   \n",
       "50%    1752.000000   141.000000       1.000000     3.000000  2.556340e+05   \n",
       "75%    2627.500000   212.000000       1.000000     7.000000  3.216450e+05   \n",
       "max    3503.000000   347.000000       5.000000    25.000000  5.286953e+06   \n",
       "\n",
       "              bytes   unit_price  \n",
       "count  3.503000e+03  3503.000000  \n",
       "mean   3.351021e+07     1.050805  \n",
       "std    1.053925e+08     0.239006  \n",
       "min    3.874700e+04     0.990000  \n",
       "25%    6.342566e+06     0.990000  \n",
       "50%    8.107896e+06     0.990000  \n",
       "75%    1.026679e+07     0.990000  \n",
       "max    1.059546e+09     1.990000  "
      ]
     },
     "execution_count": 97,
     "metadata": {},
     "output_type": "execute_result"
    }
   ],
   "source": [
    "df_tr.describe()"
   ]
  },
  {
   "cell_type": "code",
   "execution_count": 98,
   "id": "6276022a-f087-4ffb-a576-c5599a8ce475",
   "metadata": {},
   "outputs": [
    {
     "name": "stdout",
     "output_type": "stream",
     "text": [
      "<class 'pandas.core.frame.DataFrame'>\n",
      "RangeIndex: 3503 entries, 0 to 3502\n",
      "Data columns (total 9 columns):\n",
      " #   Column         Non-Null Count  Dtype  \n",
      "---  ------         --------------  -----  \n",
      " 0   track_id       3503 non-null   int64  \n",
      " 1   name           3503 non-null   object \n",
      " 2   album_id       3503 non-null   int64  \n",
      " 3   media_type_id  3503 non-null   int64  \n",
      " 4   genre_id       3503 non-null   int64  \n",
      " 5   composer       2525 non-null   object \n",
      " 6   milliseconds   3503 non-null   int64  \n",
      " 7   bytes          3503 non-null   int64  \n",
      " 8   unit_price     3503 non-null   float64\n",
      "dtypes: float64(1), int64(6), object(2)\n",
      "memory usage: 246.4+ KB\n"
     ]
    }
   ],
   "source": [
    "df_tr.info()"
   ]
  },
  {
   "cell_type": "markdown",
   "id": "9ce08850-9121-48c5-8bde-ef0a4bedb9cb",
   "metadata": {
    "tags": []
   },
   "source": [
    "### Data consistency checks"
   ]
  },
  {
   "cell_type": "code",
   "execution_count": 100,
   "id": "81ccd67a-387f-4ba3-bf18-61c633014e93",
   "metadata": {},
   "outputs": [
    {
     "data": {
      "text/plain": [
       "track_id           0\n",
       "name               0\n",
       "album_id           0\n",
       "media_type_id      0\n",
       "genre_id           0\n",
       "composer         978\n",
       "milliseconds       0\n",
       "bytes              0\n",
       "unit_price         0\n",
       "dtype: int64"
      ]
     },
     "execution_count": 100,
     "metadata": {},
     "output_type": "execute_result"
    }
   ],
   "source": [
    "#Fnding null value \n",
    "df_tr.isnull().sum()"
   ]
  },
  {
   "cell_type": "markdown",
   "id": "169ee130-d5e8-4988-aabf-83f59112ed58",
   "metadata": {
    "tags": []
   },
   "source": [
    "Found 978 missing values in composer columns"
   ]
  },
  {
   "cell_type": "code",
   "execution_count": 101,
   "id": "facd7e31-c771-45b6-96d2-03d1533f6c36",
   "metadata": {
    "tags": []
   },
   "outputs": [
    {
     "data": {
      "text/plain": [
       "Steve Harris                  80\n",
       "U2                            44\n",
       "Jagger/Richards               35\n",
       "Billy Corgan                  31\n",
       "Kurt Cobain                   26\n",
       "                              ..\n",
       "Stuart Zender                  1\n",
       "Toby Smith/Wallis Buchanan     1\n",
       "C. Cester/C. Muncey            1\n",
       "N. Cester                      1\n",
       "Philip Glass                   1\n",
       "Name: composer, Length: 852, dtype: int64"
      ]
     },
     "execution_count": 101,
     "metadata": {},
     "output_type": "execute_result"
    }
   ],
   "source": [
    "df_tr['composer'].value_counts()"
   ]
  },
  {
   "cell_type": "code",
   "execution_count": 104,
   "id": "101f0e32-0db9-40a8-8ab0-6881eee26425",
   "metadata": {},
   "outputs": [],
   "source": [
    "#Check null values in product_name\n",
    "df_nan = df_tr[df_tr['composer'].isnull() == True]"
   ]
  },
  {
   "cell_type": "code",
   "execution_count": 103,
   "id": "6d111a62-3c5d-4e2a-9922-f52b347b585e",
   "metadata": {},
   "outputs": [
    {
     "data": {
      "text/html": [
       "<div>\n",
       "<style scoped>\n",
       "    .dataframe tbody tr th:only-of-type {\n",
       "        vertical-align: middle;\n",
       "    }\n",
       "\n",
       "    .dataframe tbody tr th {\n",
       "        vertical-align: top;\n",
       "    }\n",
       "\n",
       "    .dataframe thead th {\n",
       "        text-align: right;\n",
       "    }\n",
       "</style>\n",
       "<table border=\"1\" class=\"dataframe\">\n",
       "  <thead>\n",
       "    <tr style=\"text-align: right;\">\n",
       "      <th></th>\n",
       "      <th>track_id</th>\n",
       "      <th>name</th>\n",
       "      <th>album_id</th>\n",
       "      <th>media_type_id</th>\n",
       "      <th>genre_id</th>\n",
       "      <th>composer</th>\n",
       "      <th>milliseconds</th>\n",
       "      <th>bytes</th>\n",
       "      <th>unit_price</th>\n",
       "    </tr>\n",
       "  </thead>\n",
       "  <tbody>\n",
       "    <tr>\n",
       "      <th>1</th>\n",
       "      <td>2</td>\n",
       "      <td>Balls to the Wall</td>\n",
       "      <td>2</td>\n",
       "      <td>2</td>\n",
       "      <td>1</td>\n",
       "      <td>NaN</td>\n",
       "      <td>342562</td>\n",
       "      <td>5510424</td>\n",
       "      <td>0.99</td>\n",
       "    </tr>\n",
       "    <tr>\n",
       "      <th>62</th>\n",
       "      <td>63</td>\n",
       "      <td>Desafinado</td>\n",
       "      <td>8</td>\n",
       "      <td>1</td>\n",
       "      <td>2</td>\n",
       "      <td>NaN</td>\n",
       "      <td>185338</td>\n",
       "      <td>5990473</td>\n",
       "      <td>0.99</td>\n",
       "    </tr>\n",
       "    <tr>\n",
       "      <th>63</th>\n",
       "      <td>64</td>\n",
       "      <td>Garota De Ipanema</td>\n",
       "      <td>8</td>\n",
       "      <td>1</td>\n",
       "      <td>2</td>\n",
       "      <td>NaN</td>\n",
       "      <td>285048</td>\n",
       "      <td>9348428</td>\n",
       "      <td>0.99</td>\n",
       "    </tr>\n",
       "    <tr>\n",
       "      <th>64</th>\n",
       "      <td>65</td>\n",
       "      <td>Samba De Uma Nota SÛ (One Note Samba)</td>\n",
       "      <td>8</td>\n",
       "      <td>1</td>\n",
       "      <td>2</td>\n",
       "      <td>NaN</td>\n",
       "      <td>137273</td>\n",
       "      <td>4535401</td>\n",
       "      <td>0.99</td>\n",
       "    </tr>\n",
       "    <tr>\n",
       "      <th>65</th>\n",
       "      <td>66</td>\n",
       "      <td>Por Causa De VocÍ</td>\n",
       "      <td>8</td>\n",
       "      <td>1</td>\n",
       "      <td>2</td>\n",
       "      <td>NaN</td>\n",
       "      <td>169900</td>\n",
       "      <td>5536496</td>\n",
       "      <td>0.99</td>\n",
       "    </tr>\n",
       "    <tr>\n",
       "      <th>...</th>\n",
       "      <td>...</td>\n",
       "      <td>...</td>\n",
       "      <td>...</td>\n",
       "      <td>...</td>\n",
       "      <td>...</td>\n",
       "      <td>...</td>\n",
       "      <td>...</td>\n",
       "      <td>...</td>\n",
       "      <td>...</td>\n",
       "    </tr>\n",
       "    <tr>\n",
       "      <th>3477</th>\n",
       "      <td>3478</td>\n",
       "      <td>Slowness</td>\n",
       "      <td>323</td>\n",
       "      <td>2</td>\n",
       "      <td>23</td>\n",
       "      <td>NaN</td>\n",
       "      <td>215386</td>\n",
       "      <td>3644793</td>\n",
       "      <td>0.99</td>\n",
       "    </tr>\n",
       "    <tr>\n",
       "      <th>3480</th>\n",
       "      <td>3481</td>\n",
       "      <td>A Midsummer Night's Dream, Op.61 Incidental Mu...</td>\n",
       "      <td>326</td>\n",
       "      <td>2</td>\n",
       "      <td>24</td>\n",
       "      <td>NaN</td>\n",
       "      <td>387826</td>\n",
       "      <td>6497867</td>\n",
       "      <td>0.99</td>\n",
       "    </tr>\n",
       "    <tr>\n",
       "      <th>3495</th>\n",
       "      <td>3496</td>\n",
       "      <td>…tude 1, In C Major - Preludio (Presto) - Liszt</td>\n",
       "      <td>340</td>\n",
       "      <td>4</td>\n",
       "      <td>24</td>\n",
       "      <td>NaN</td>\n",
       "      <td>51780</td>\n",
       "      <td>2229617</td>\n",
       "      <td>0.99</td>\n",
       "    </tr>\n",
       "    <tr>\n",
       "      <th>3496</th>\n",
       "      <td>3497</td>\n",
       "      <td>Erlkonig, D.328</td>\n",
       "      <td>341</td>\n",
       "      <td>2</td>\n",
       "      <td>24</td>\n",
       "      <td>NaN</td>\n",
       "      <td>261849</td>\n",
       "      <td>4307907</td>\n",
       "      <td>0.99</td>\n",
       "    </tr>\n",
       "    <tr>\n",
       "      <th>3498</th>\n",
       "      <td>3499</td>\n",
       "      <td>Pini Di Roma (Pinien Von Rom) \\ I Pini Della V...</td>\n",
       "      <td>343</td>\n",
       "      <td>2</td>\n",
       "      <td>24</td>\n",
       "      <td>NaN</td>\n",
       "      <td>286741</td>\n",
       "      <td>4718950</td>\n",
       "      <td>0.99</td>\n",
       "    </tr>\n",
       "  </tbody>\n",
       "</table>\n",
       "<p>978 rows × 9 columns</p>\n",
       "</div>"
      ],
      "text/plain": [
       "      track_id                                               name  album_id  \\\n",
       "1            2                                  Balls to the Wall         2   \n",
       "62          63                                         Desafinado         8   \n",
       "63          64                                  Garota De Ipanema         8   \n",
       "64          65              Samba De Uma Nota SÛ (One Note Samba)         8   \n",
       "65          66                                  Por Causa De VocÍ         8   \n",
       "...        ...                                                ...       ...   \n",
       "3477      3478                                           Slowness       323   \n",
       "3480      3481  A Midsummer Night's Dream, Op.61 Incidental Mu...       326   \n",
       "3495      3496    …tude 1, In C Major - Preludio (Presto) - Liszt       340   \n",
       "3496      3497                                    Erlkonig, D.328       341   \n",
       "3498      3499  Pini Di Roma (Pinien Von Rom) \\ I Pini Della V...       343   \n",
       "\n",
       "      media_type_id  genre_id composer  milliseconds    bytes  unit_price  \n",
       "1                 2         1      NaN        342562  5510424        0.99  \n",
       "62                1         2      NaN        185338  5990473        0.99  \n",
       "63                1         2      NaN        285048  9348428        0.99  \n",
       "64                1         2      NaN        137273  4535401        0.99  \n",
       "65                1         2      NaN        169900  5536496        0.99  \n",
       "...             ...       ...      ...           ...      ...         ...  \n",
       "3477              2        23      NaN        215386  3644793        0.99  \n",
       "3480              2        24      NaN        387826  6497867        0.99  \n",
       "3495              4        24      NaN         51780  2229617        0.99  \n",
       "3496              2        24      NaN        261849  4307907        0.99  \n",
       "3498              2        24      NaN        286741  4718950        0.99  \n",
       "\n",
       "[978 rows x 9 columns]"
      ]
     },
     "execution_count": 103,
     "metadata": {},
     "output_type": "execute_result"
    }
   ],
   "source": [
    "df_nan"
   ]
  },
  {
   "cell_type": "code",
   "execution_count": 106,
   "id": "2f8b0853-2c4a-422d-a7be-4f8b9e92c841",
   "metadata": {},
   "outputs": [
    {
     "data": {
      "text/plain": [
       "(3503, 9)"
      ]
     },
     "execution_count": 106,
     "metadata": {},
     "output_type": "execute_result"
    }
   ],
   "source": [
    "#check the size of data before removing\n",
    "df_tr.shape"
   ]
  },
  {
   "cell_type": "code",
   "execution_count": 105,
   "id": "dc7f02d4-0fb0-4cc7-86ee-5feb3a8e324a",
   "metadata": {
    "tags": []
   },
   "outputs": [],
   "source": [
    "#Remove missing values from composer columns\n",
    "df_tr_clean = df_tr[df_tr['composer'].isnull() == False]"
   ]
  },
  {
   "cell_type": "code",
   "execution_count": 107,
   "id": "13233142-5060-49f5-8303-bfca005dc6ce",
   "metadata": {},
   "outputs": [
    {
     "data": {
      "text/plain": [
       "(2525, 9)"
      ]
     },
     "execution_count": 107,
     "metadata": {},
     "output_type": "execute_result"
    }
   ],
   "source": [
    "#check the size of data after\n",
    "df_tr_clean.shape"
   ]
  },
  {
   "cell_type": "markdown",
   "id": "87415b01-8a90-4fc9-a50b-470066e091f8",
   "metadata": {
    "tags": []
   },
   "source": [
    "Data was removed successfully"
   ]
  },
  {
   "cell_type": "code",
   "execution_count": 108,
   "id": "00f5d784-64f8-495b-bfb1-3fd9aa611557",
   "metadata": {},
   "outputs": [
    {
     "name": "stdout",
     "output_type": "stream",
     "text": [
      "track_id  consistent\n",
      "name  consistent\n",
      "album_id  consistent\n",
      "media_type_id  consistent\n",
      "genre_id  consistent\n",
      "composer  mixed\n",
      "milliseconds  consistent\n",
      "bytes  consistent\n",
      "unit_price  consistent\n"
     ]
    }
   ],
   "source": [
    "#Print \"consistent\" if no mixed types\n",
    "for col in df_tr.columns.tolist():\n",
    "  weird = (df_tr[[col]].applymap(type) != df_tr[[col]].iloc[0].apply(type)).any(axis = 1)\n",
    "  if len (df_tr[weird]) > 0:\n",
    "    print (col, ' mixed')\n",
    "  else: print(col, ' consistent')"
   ]
  },
  {
   "cell_type": "markdown",
   "id": "cb9cbb1a-2ddb-456f-bd65-b411b06999b1",
   "metadata": {
    "tags": []
   },
   "source": [
    "There is mixed type of data in composer columns"
   ]
  },
  {
   "cell_type": "code",
   "execution_count": 109,
   "id": "6ea7fdaa-fc8b-4758-b4f2-78537ca77da3",
   "metadata": {},
   "outputs": [],
   "source": [
    "#change data type at composer columns\n",
    "df_tr['composer'] = df_tr['composer'].astype(str)"
   ]
  },
  {
   "cell_type": "code",
   "execution_count": 110,
   "id": "0b2fb165-3f3f-42f7-a8ec-6f0f9643839d",
   "metadata": {},
   "outputs": [
    {
     "name": "stdout",
     "output_type": "stream",
     "text": [
      "track_id  consistent\n",
      "name  consistent\n",
      "album_id  consistent\n",
      "media_type_id  consistent\n",
      "genre_id  consistent\n",
      "composer  consistent\n",
      "milliseconds  consistent\n",
      "bytes  consistent\n",
      "unit_price  consistent\n"
     ]
    }
   ],
   "source": [
    "#check consistency again\n",
    "#Print \"consistent\" if no mixed types\n",
    "for col in df_tr.columns.tolist():\n",
    "  weird = (df_tr[[col]].applymap(type) != df_tr[[col]].iloc[0].apply(type)).any(axis = 1)\n",
    "  if len (df_tr[weird]) > 0:\n",
    "    print (col, ' mixed')\n",
    "  else: print(col, ' consistent')"
   ]
  },
  {
   "cell_type": "markdown",
   "id": "6d098087-32c7-4ee9-93b3-c9acfdf33f9f",
   "metadata": {
    "tags": []
   },
   "source": [
    "No mixed type data at that column and all data are consistency now"
   ]
  },
  {
   "cell_type": "code",
   "execution_count": null,
   "id": "4f127afa-d7c6-4f02-b404-bf76de3f447a",
   "metadata": {},
   "outputs": [],
   "source": [
    "### Importing media_type, genre, album, artist, playlist_track, playlist"
   ]
  },
  {
   "cell_type": "markdown",
   "id": "840dab24-14f1-4fde-b38f-034dd5326d6e",
   "metadata": {},
   "source": [
    "Fixing importing data problmes \n",
    "#data = pd.read_csv(filename, encoding= 'unicode_escape')"
   ]
  },
  {
   "cell_type": "code",
   "execution_count": 129,
   "id": "e526d51f-a771-47cb-8aa0-028300562428",
   "metadata": {},
   "outputs": [],
   "source": [
    "df_mt = pd.read_csv(os.path.join(path, '02 Data', 'Original Data', 'media_type.csv'), index_col = False)\n",
    "df_g = pd.read_csv(os.path.join(path, '02 Data', 'Original Data', 'genre.csv'), index_col = False)\n",
    "df_al = pd.read_csv(os.path.join(path, '02 Data', 'Original Data', 'album.csv'), index_col = False, encoding= 'unicode_escape')\n",
    "df_at = pd.read_csv(os.path.join(path, '02 Data', 'Original Data', 'artist.csv'), index_col = False, encoding= 'unicode_escape')\n",
    "df_plt = pd.read_csv(os.path.join(path, '02 Data', 'Original Data', 'playlist_track.csv'), index_col = False,encoding= 'unicode_escape')\n",
    "df_pl = pd.read_csv(os.path.join(path, '02 Data', 'Original Data', 'playlist.csv'), index_col = False,encoding= 'unicode_escape')"
   ]
  },
  {
   "cell_type": "markdown",
   "id": "ada0e302-8227-4c65-a672-c7afb293de89",
   "metadata": {
    "tags": []
   },
   "source": [
    "### Data wrangling for media_type"
   ]
  },
  {
   "cell_type": "markdown",
   "id": "fc0b2b63-b306-49bf-ac86-5b6283cd67c9",
   "metadata": {},
   "source": [
    "df.head()\n",
    "df.shape\n",
    "df.describe()\n",
    "df.info()"
   ]
  },
  {
   "cell_type": "code",
   "execution_count": 132,
   "id": "bd58ff9e-f46c-4166-8071-f5b543fda992",
   "metadata": {},
   "outputs": [
    {
     "data": {
      "text/html": [
       "<div>\n",
       "<style scoped>\n",
       "    .dataframe tbody tr th:only-of-type {\n",
       "        vertical-align: middle;\n",
       "    }\n",
       "\n",
       "    .dataframe tbody tr th {\n",
       "        vertical-align: top;\n",
       "    }\n",
       "\n",
       "    .dataframe thead th {\n",
       "        text-align: right;\n",
       "    }\n",
       "</style>\n",
       "<table border=\"1\" class=\"dataframe\">\n",
       "  <thead>\n",
       "    <tr style=\"text-align: right;\">\n",
       "      <th></th>\n",
       "      <th>media_type_id</th>\n",
       "      <th>name</th>\n",
       "    </tr>\n",
       "  </thead>\n",
       "  <tbody>\n",
       "    <tr>\n",
       "      <th>0</th>\n",
       "      <td>1</td>\n",
       "      <td>MPEG audio file</td>\n",
       "    </tr>\n",
       "    <tr>\n",
       "      <th>1</th>\n",
       "      <td>2</td>\n",
       "      <td>Protected AAC audio file</td>\n",
       "    </tr>\n",
       "    <tr>\n",
       "      <th>2</th>\n",
       "      <td>3</td>\n",
       "      <td>Protected MPEG-4 video file</td>\n",
       "    </tr>\n",
       "    <tr>\n",
       "      <th>3</th>\n",
       "      <td>4</td>\n",
       "      <td>Purchased AAC audio file</td>\n",
       "    </tr>\n",
       "    <tr>\n",
       "      <th>4</th>\n",
       "      <td>5</td>\n",
       "      <td>AAC audio file</td>\n",
       "    </tr>\n",
       "  </tbody>\n",
       "</table>\n",
       "</div>"
      ],
      "text/plain": [
       "   media_type_id                         name\n",
       "0              1              MPEG audio file\n",
       "1              2     Protected AAC audio file\n",
       "2              3  Protected MPEG-4 video file\n",
       "3              4     Purchased AAC audio file\n",
       "4              5               AAC audio file"
      ]
     },
     "execution_count": 132,
     "metadata": {},
     "output_type": "execute_result"
    }
   ],
   "source": [
    "df_mt.head()"
   ]
  },
  {
   "cell_type": "code",
   "execution_count": 133,
   "id": "72800f08-d3ed-4ea4-9266-155f3312db18",
   "metadata": {},
   "outputs": [
    {
     "data": {
      "text/plain": [
       "(5, 2)"
      ]
     },
     "execution_count": 133,
     "metadata": {},
     "output_type": "execute_result"
    }
   ],
   "source": [
    "df_mt.shape"
   ]
  },
  {
   "cell_type": "code",
   "execution_count": 134,
   "id": "f2e40bcc-3355-4bcc-899a-3a9ceb393294",
   "metadata": {},
   "outputs": [
    {
     "data": {
      "text/html": [
       "<div>\n",
       "<style scoped>\n",
       "    .dataframe tbody tr th:only-of-type {\n",
       "        vertical-align: middle;\n",
       "    }\n",
       "\n",
       "    .dataframe tbody tr th {\n",
       "        vertical-align: top;\n",
       "    }\n",
       "\n",
       "    .dataframe thead th {\n",
       "        text-align: right;\n",
       "    }\n",
       "</style>\n",
       "<table border=\"1\" class=\"dataframe\">\n",
       "  <thead>\n",
       "    <tr style=\"text-align: right;\">\n",
       "      <th></th>\n",
       "      <th>media_type_id</th>\n",
       "    </tr>\n",
       "  </thead>\n",
       "  <tbody>\n",
       "    <tr>\n",
       "      <th>count</th>\n",
       "      <td>5.000000</td>\n",
       "    </tr>\n",
       "    <tr>\n",
       "      <th>mean</th>\n",
       "      <td>3.000000</td>\n",
       "    </tr>\n",
       "    <tr>\n",
       "      <th>std</th>\n",
       "      <td>1.581139</td>\n",
       "    </tr>\n",
       "    <tr>\n",
       "      <th>min</th>\n",
       "      <td>1.000000</td>\n",
       "    </tr>\n",
       "    <tr>\n",
       "      <th>25%</th>\n",
       "      <td>2.000000</td>\n",
       "    </tr>\n",
       "    <tr>\n",
       "      <th>50%</th>\n",
       "      <td>3.000000</td>\n",
       "    </tr>\n",
       "    <tr>\n",
       "      <th>75%</th>\n",
       "      <td>4.000000</td>\n",
       "    </tr>\n",
       "    <tr>\n",
       "      <th>max</th>\n",
       "      <td>5.000000</td>\n",
       "    </tr>\n",
       "  </tbody>\n",
       "</table>\n",
       "</div>"
      ],
      "text/plain": [
       "       media_type_id\n",
       "count       5.000000\n",
       "mean        3.000000\n",
       "std         1.581139\n",
       "min         1.000000\n",
       "25%         2.000000\n",
       "50%         3.000000\n",
       "75%         4.000000\n",
       "max         5.000000"
      ]
     },
     "execution_count": 134,
     "metadata": {},
     "output_type": "execute_result"
    }
   ],
   "source": [
    "df_mt.describe()"
   ]
  },
  {
   "cell_type": "code",
   "execution_count": 135,
   "id": "05a7acf1-b5af-40fe-9c35-bbf4f0104be6",
   "metadata": {},
   "outputs": [
    {
     "name": "stdout",
     "output_type": "stream",
     "text": [
      "<class 'pandas.core.frame.DataFrame'>\n",
      "RangeIndex: 5 entries, 0 to 4\n",
      "Data columns (total 2 columns):\n",
      " #   Column         Non-Null Count  Dtype \n",
      "---  ------         --------------  ----- \n",
      " 0   media_type_id  5 non-null      int64 \n",
      " 1   name           5 non-null      object\n",
      "dtypes: int64(1), object(1)\n",
      "memory usage: 208.0+ bytes\n"
     ]
    }
   ],
   "source": [
    "df_mt.info()"
   ]
  },
  {
   "cell_type": "markdown",
   "id": "c0fc6870-6c94-4fa8-acde-7f7a23882267",
   "metadata": {},
   "source": [
    "### Data consistency checks"
   ]
  },
  {
   "cell_type": "markdown",
   "id": "b528ae53-8fa0-4bf1-ba13-107cc872b44f",
   "metadata": {
    "tags": []
   },
   "source": [
    "#Fnding null value \n",
    "df.isnull().sum()\n",
    "#Finding duplicate value\n",
    "df_dup = df[df.duplicated()]\n",
    "df_dup\n",
    "#Print \"consistent\" if no mixed types\n",
    "for col in df.columns.tolist():\n",
    "  weird = (df[[col]].applymap(type) != df[[col]].iloc[0].apply(type)).any(axis = 1)\n",
    "  if len (df[weird]) > 0:\n",
    "    print (col, ' mixed')\n",
    "  else: print(col, ' consistent')"
   ]
  },
  {
   "cell_type": "code",
   "execution_count": 137,
   "id": "5af2da12-88fb-42d1-80ee-3df282fbac20",
   "metadata": {},
   "outputs": [
    {
     "data": {
      "text/plain": [
       "media_type_id    0\n",
       "name             0\n",
       "dtype: int64"
      ]
     },
     "execution_count": 137,
     "metadata": {},
     "output_type": "execute_result"
    }
   ],
   "source": [
    "#Fnding null value \n",
    "df_mt.isnull().sum()"
   ]
  },
  {
   "cell_type": "code",
   "execution_count": 138,
   "id": "6fefbb0d-2485-4ef3-b904-fe86e96953cd",
   "metadata": {},
   "outputs": [
    {
     "data": {
      "text/html": [
       "<div>\n",
       "<style scoped>\n",
       "    .dataframe tbody tr th:only-of-type {\n",
       "        vertical-align: middle;\n",
       "    }\n",
       "\n",
       "    .dataframe tbody tr th {\n",
       "        vertical-align: top;\n",
       "    }\n",
       "\n",
       "    .dataframe thead th {\n",
       "        text-align: right;\n",
       "    }\n",
       "</style>\n",
       "<table border=\"1\" class=\"dataframe\">\n",
       "  <thead>\n",
       "    <tr style=\"text-align: right;\">\n",
       "      <th></th>\n",
       "      <th>invoice_line_id</th>\n",
       "      <th>invoice_id</th>\n",
       "      <th>track_id</th>\n",
       "      <th>unit_price</th>\n",
       "      <th>quantity</th>\n",
       "    </tr>\n",
       "  </thead>\n",
       "  <tbody>\n",
       "  </tbody>\n",
       "</table>\n",
       "</div>"
      ],
      "text/plain": [
       "Empty DataFrame\n",
       "Columns: [invoice_line_id, invoice_id, track_id, unit_price, quantity]\n",
       "Index: []"
      ]
     },
     "execution_count": 138,
     "metadata": {},
     "output_type": "execute_result"
    }
   ],
   "source": [
    "#Finding duplicate value\n",
    "df_dup_mt = df_invl[df_invl.duplicated()]\n",
    "df_dup_mt"
   ]
  },
  {
   "cell_type": "code",
   "execution_count": 139,
   "id": "a2dd67a1-9f56-493e-aef1-5c89f625763d",
   "metadata": {},
   "outputs": [
    {
     "name": "stdout",
     "output_type": "stream",
     "text": [
      "media_type_id  consistent\n",
      "name  consistent\n"
     ]
    }
   ],
   "source": [
    "#Print \"consistent\" if no mixed types\n",
    "for col in df_mt.columns.tolist():\n",
    "  weird = (df_mt[[col]].applymap(type) != df_mt[[col]].iloc[0].apply(type)).any(axis = 1)\n",
    "  if len (df_mt[weird]) > 0:\n",
    "    print (col, ' mixed')\n",
    "  else: print(col, ' consistent')"
   ]
  },
  {
   "cell_type": "markdown",
   "id": "a1211222-b402-496b-bf6f-1b236cb3c882",
   "metadata": {
    "tags": []
   },
   "source": [
    "### Data wrangling for Genre"
   ]
  },
  {
   "cell_type": "code",
   "execution_count": 145,
   "id": "d0e3254b-4d1e-4b6c-a8b0-96272f3cfc77",
   "metadata": {
    "tags": []
   },
   "outputs": [
    {
     "data": {
      "text/html": [
       "<div>\n",
       "<style scoped>\n",
       "    .dataframe tbody tr th:only-of-type {\n",
       "        vertical-align: middle;\n",
       "    }\n",
       "\n",
       "    .dataframe tbody tr th {\n",
       "        vertical-align: top;\n",
       "    }\n",
       "\n",
       "    .dataframe thead th {\n",
       "        text-align: right;\n",
       "    }\n",
       "</style>\n",
       "<table border=\"1\" class=\"dataframe\">\n",
       "  <thead>\n",
       "    <tr style=\"text-align: right;\">\n",
       "      <th></th>\n",
       "      <th>genre_id</th>\n",
       "      <th>name</th>\n",
       "    </tr>\n",
       "  </thead>\n",
       "  <tbody>\n",
       "    <tr>\n",
       "      <th>0</th>\n",
       "      <td>1</td>\n",
       "      <td>Rock</td>\n",
       "    </tr>\n",
       "    <tr>\n",
       "      <th>1</th>\n",
       "      <td>2</td>\n",
       "      <td>Jazz</td>\n",
       "    </tr>\n",
       "    <tr>\n",
       "      <th>2</th>\n",
       "      <td>3</td>\n",
       "      <td>Metal</td>\n",
       "    </tr>\n",
       "    <tr>\n",
       "      <th>3</th>\n",
       "      <td>4</td>\n",
       "      <td>Alternative &amp; Punk</td>\n",
       "    </tr>\n",
       "    <tr>\n",
       "      <th>4</th>\n",
       "      <td>5</td>\n",
       "      <td>Rock And Roll</td>\n",
       "    </tr>\n",
       "  </tbody>\n",
       "</table>\n",
       "</div>"
      ],
      "text/plain": [
       "   genre_id                name\n",
       "0         1                Rock\n",
       "1         2                Jazz\n",
       "2         3               Metal\n",
       "3         4  Alternative & Punk\n",
       "4         5       Rock And Roll"
      ]
     },
     "execution_count": 145,
     "metadata": {},
     "output_type": "execute_result"
    }
   ],
   "source": [
    "df_g.head()"
   ]
  },
  {
   "cell_type": "code",
   "execution_count": 142,
   "id": "1380bcf7-70c4-4697-8e63-eaa575dc438d",
   "metadata": {},
   "outputs": [
    {
     "data": {
      "text/plain": [
       "(25, 2)"
      ]
     },
     "execution_count": 142,
     "metadata": {},
     "output_type": "execute_result"
    }
   ],
   "source": [
    "df_g.shape"
   ]
  },
  {
   "cell_type": "code",
   "execution_count": 143,
   "id": "a16fde42-0e1e-481a-b216-158cc59121ec",
   "metadata": {},
   "outputs": [
    {
     "data": {
      "text/html": [
       "<div>\n",
       "<style scoped>\n",
       "    .dataframe tbody tr th:only-of-type {\n",
       "        vertical-align: middle;\n",
       "    }\n",
       "\n",
       "    .dataframe tbody tr th {\n",
       "        vertical-align: top;\n",
       "    }\n",
       "\n",
       "    .dataframe thead th {\n",
       "        text-align: right;\n",
       "    }\n",
       "</style>\n",
       "<table border=\"1\" class=\"dataframe\">\n",
       "  <thead>\n",
       "    <tr style=\"text-align: right;\">\n",
       "      <th></th>\n",
       "      <th>genre_id</th>\n",
       "    </tr>\n",
       "  </thead>\n",
       "  <tbody>\n",
       "    <tr>\n",
       "      <th>count</th>\n",
       "      <td>25.000000</td>\n",
       "    </tr>\n",
       "    <tr>\n",
       "      <th>mean</th>\n",
       "      <td>13.000000</td>\n",
       "    </tr>\n",
       "    <tr>\n",
       "      <th>std</th>\n",
       "      <td>7.359801</td>\n",
       "    </tr>\n",
       "    <tr>\n",
       "      <th>min</th>\n",
       "      <td>1.000000</td>\n",
       "    </tr>\n",
       "    <tr>\n",
       "      <th>25%</th>\n",
       "      <td>7.000000</td>\n",
       "    </tr>\n",
       "    <tr>\n",
       "      <th>50%</th>\n",
       "      <td>13.000000</td>\n",
       "    </tr>\n",
       "    <tr>\n",
       "      <th>75%</th>\n",
       "      <td>19.000000</td>\n",
       "    </tr>\n",
       "    <tr>\n",
       "      <th>max</th>\n",
       "      <td>25.000000</td>\n",
       "    </tr>\n",
       "  </tbody>\n",
       "</table>\n",
       "</div>"
      ],
      "text/plain": [
       "        genre_id\n",
       "count  25.000000\n",
       "mean   13.000000\n",
       "std     7.359801\n",
       "min     1.000000\n",
       "25%     7.000000\n",
       "50%    13.000000\n",
       "75%    19.000000\n",
       "max    25.000000"
      ]
     },
     "execution_count": 143,
     "metadata": {},
     "output_type": "execute_result"
    }
   ],
   "source": [
    "df_g.describe()"
   ]
  },
  {
   "cell_type": "code",
   "execution_count": 144,
   "id": "cac76c57-24c0-4cb3-b29c-cd57c33d2060",
   "metadata": {},
   "outputs": [
    {
     "name": "stdout",
     "output_type": "stream",
     "text": [
      "<class 'pandas.core.frame.DataFrame'>\n",
      "RangeIndex: 25 entries, 0 to 24\n",
      "Data columns (total 2 columns):\n",
      " #   Column    Non-Null Count  Dtype \n",
      "---  ------    --------------  ----- \n",
      " 0   genre_id  25 non-null     int64 \n",
      " 1   name      25 non-null     object\n",
      "dtypes: int64(1), object(1)\n",
      "memory usage: 528.0+ bytes\n"
     ]
    }
   ],
   "source": [
    "df_g.info()"
   ]
  },
  {
   "cell_type": "markdown",
   "id": "82606e3d-91aa-4b7e-9017-b4fd73f052cd",
   "metadata": {
    "tags": []
   },
   "source": [
    "### Data consistency checks"
   ]
  },
  {
   "cell_type": "code",
   "execution_count": 146,
   "id": "aabf96a4-4585-4947-b844-33c2f163e998",
   "metadata": {},
   "outputs": [
    {
     "data": {
      "text/plain": [
       "genre_id    0\n",
       "name        0\n",
       "dtype: int64"
      ]
     },
     "execution_count": 146,
     "metadata": {},
     "output_type": "execute_result"
    }
   ],
   "source": [
    "#Fnding null value \n",
    "df_g.isnull().sum()"
   ]
  },
  {
   "cell_type": "code",
   "execution_count": 147,
   "id": "5b39edb1-6f2d-48eb-96f3-2d19c8ef6c0a",
   "metadata": {},
   "outputs": [
    {
     "data": {
      "text/html": [
       "<div>\n",
       "<style scoped>\n",
       "    .dataframe tbody tr th:only-of-type {\n",
       "        vertical-align: middle;\n",
       "    }\n",
       "\n",
       "    .dataframe tbody tr th {\n",
       "        vertical-align: top;\n",
       "    }\n",
       "\n",
       "    .dataframe thead th {\n",
       "        text-align: right;\n",
       "    }\n",
       "</style>\n",
       "<table border=\"1\" class=\"dataframe\">\n",
       "  <thead>\n",
       "    <tr style=\"text-align: right;\">\n",
       "      <th></th>\n",
       "      <th>genre_id</th>\n",
       "      <th>name</th>\n",
       "    </tr>\n",
       "  </thead>\n",
       "  <tbody>\n",
       "  </tbody>\n",
       "</table>\n",
       "</div>"
      ],
      "text/plain": [
       "Empty DataFrame\n",
       "Columns: [genre_id, name]\n",
       "Index: []"
      ]
     },
     "execution_count": 147,
     "metadata": {},
     "output_type": "execute_result"
    }
   ],
   "source": [
    "#Finding duplicate value\n",
    "df_dup_g = df_g[df_g.duplicated()]\n",
    "df_dup_g"
   ]
  },
  {
   "cell_type": "code",
   "execution_count": 148,
   "id": "b264d414-26d7-4212-9198-dafe71e4241a",
   "metadata": {},
   "outputs": [
    {
     "name": "stdout",
     "output_type": "stream",
     "text": [
      "genre_id  consistent\n",
      "name  consistent\n"
     ]
    }
   ],
   "source": [
    "#Print \"consistent\" if no mixed types\n",
    "for col in df_g.columns.tolist():\n",
    "  weird = (df_g[[col]].applymap(type) != df_g[[col]].iloc[0].apply(type)).any(axis = 1)\n",
    "  if len (df_g[weird]) > 0:\n",
    "    print (col, ' mixed')\n",
    "  else: print(col, ' consistent')"
   ]
  },
  {
   "cell_type": "markdown",
   "id": "f1f4146b-c4b1-4c9e-b86a-4e7bd14b4763",
   "metadata": {
    "tags": []
   },
   "source": [
    "### Data wrangling for Album"
   ]
  },
  {
   "cell_type": "markdown",
   "id": "6ea8fbc1-41a5-487f-b25d-add82f5f9440",
   "metadata": {},
   "source": [
    "df_al.head()\n",
    "df_al.shape\n",
    "df_al.describe()\n",
    "df_al.info()"
   ]
  },
  {
   "cell_type": "markdown",
   "id": "42760198-7a32-41bc-8391-7d5ca5b4abf4",
   "metadata": {},
   "source": [
    "# Data consistency checks"
   ]
  },
  {
   "cell_type": "markdown",
   "id": "756e658c-e4cb-4315-9909-3076598c3fd1",
   "metadata": {},
   "source": [
    "#Fnding null value \n",
    "df_al.isnull().sum()\n",
    "#Finding duplicate value\n",
    "df_dup_al = df_al[df_al.duplicated()]\n",
    "df_dup_al\n",
    "#Print \"consistent\" if no mixed types\n",
    "for col in df_al.columns.tolist():\n",
    "  weird = (df_al[[col]].applymap(type) != df_al[[col]].iloc[0].apply(type)).any(axis = 1)\n",
    "  if len (df_al[weird]) > 0:\n",
    "    print (col, ' mixed')\n",
    "  else: print(col, ' consistent')"
   ]
  },
  {
   "cell_type": "markdown",
   "id": "ad2c0c5e-57e6-4de0-ba0a-288144ccb2c6",
   "metadata": {},
   "source": [
    "### Data wrangling for Artist"
   ]
  },
  {
   "cell_type": "markdown",
   "id": "5c261e5a-1683-47c3-ab4f-c1c77b33c18c",
   "metadata": {},
   "source": [
    "df_at.head()\n",
    "df_at.shape\n",
    "df_at.describe()\n",
    "df_at.info()"
   ]
  },
  {
   "cell_type": "markdown",
   "id": "5c9d97d7-6e39-4c43-86db-bedc109ed81d",
   "metadata": {},
   "source": [
    "# Data consistency checks"
   ]
  },
  {
   "cell_type": "markdown",
   "id": "deed7ce6-7c8a-4a12-8973-0742acd3cd0c",
   "metadata": {},
   "source": [
    "#Fnding null value \n",
    "df_at.isnull().sum()\n",
    "#Finding duplicate value\n",
    "df_dup_at = df_at[df_at.duplicated()]\n",
    "df_dup_at\n",
    "#Print \"consistent\" if no mixed types\n",
    "for col in df_at.columns.tolist():\n",
    "  weird = (df_at[[col]].applymap(type) != df_at[[col]].iloc[0].apply(type)).any(axis = 1)\n",
    "  if len (df_at[weird]) > 0:\n",
    "    print (col, ' mixed')\n",
    "  else: print(col, ' consistent')"
   ]
  },
  {
   "cell_type": "markdown",
   "id": "290fbfc3-3065-40c6-8f8f-d8fc5b46f82b",
   "metadata": {},
   "source": [
    "### Data wrangling for Playlist_Track"
   ]
  },
  {
   "cell_type": "markdown",
   "id": "ce7baaa8-0ffc-4788-8869-0ab1aabb76be",
   "metadata": {
    "tags": []
   },
   "source": [
    "df_plt.head()\n",
    "df_plt.shape\n",
    "df_plt.describe()\n",
    "df_plt.info()"
   ]
  },
  {
   "cell_type": "markdown",
   "id": "d113ec6f-0b9e-4c1a-aab0-fb4785f90607",
   "metadata": {
    "tags": []
   },
   "source": [
    "# Data consistency checks"
   ]
  },
  {
   "cell_type": "markdown",
   "id": "67eca36a-481f-404c-992c-a862012bad8c",
   "metadata": {
    "tags": []
   },
   "source": [
    "#Fnding null value \n",
    "df_plt.isnull().sum()\n",
    "#Finding duplicate value\n",
    "df_dup_plt = df_plt[df_plt.duplicated()]\n",
    "df_dup_plt\n",
    "#Print \"consistent\" if no mixed types\n",
    "for col in df_plt.columns.tolist():\n",
    "  weird = (df_plt[[col]].applymap(type) != df_plt[[col]].iloc[0].apply(type)).any(axis = 1)\n",
    "  if len (df_plt[weird]) > 0:\n",
    "    print (col, ' mixed')\n",
    "  else: print(col, ' consistent')"
   ]
  },
  {
   "cell_type": "markdown",
   "id": "cac3c426-2829-484a-90fb-e53496d13a88",
   "metadata": {
    "tags": []
   },
   "source": [
    "### Data wrangling for Playlist"
   ]
  },
  {
   "cell_type": "markdown",
   "id": "7d8b50b9-19db-486e-80d3-45b3d0727e25",
   "metadata": {},
   "source": [
    "df_pl.head()\n",
    "df_pl.shape\n",
    "df_pl.describe()\n",
    "df_pl.info()"
   ]
  },
  {
   "cell_type": "code",
   "execution_count": null,
   "id": "605bcaab-3c12-4a84-8e21-e6ae83261c21",
   "metadata": {},
   "outputs": [],
   "source": [
    "# Data consistency checks"
   ]
  },
  {
   "cell_type": "markdown",
   "id": "eab5c61f-9725-47db-993f-fe94247a8b5a",
   "metadata": {},
   "source": [
    "#Fnding null value \n",
    "df_pl.isnull().sum()\n",
    "#Finding duplicate value\n",
    "df_dup_pl = df_pl[df_pl.duplicated()]\n",
    "df_dup_pl\n",
    "#Print \"consistent\" if no mixed types\n",
    "for col in df_pl.columns.tolist():\n",
    "  weird = (df_pl[[col]].applymap(type) != df_pl[[col]].iloc[0].apply(type)).any(axis = 1)\n",
    "  if len (df_pl[weird]) > 0:\n",
    "    print (col, ' mixed')\n",
    "  else: print(col, ' consistent')"
   ]
  },
  {
   "cell_type": "code",
   "execution_count": null,
   "id": "adc85c26-99d4-41d5-9660-a19407a37cbe",
   "metadata": {},
   "outputs": [],
   "source": [
    "# Exporting Datas"
   ]
  },
  {
   "cell_type": "code",
   "execution_count": 150,
   "id": "bda630f6-1a70-4a7c-9b76-7955de2325a1",
   "metadata": {},
   "outputs": [],
   "source": [
    "df_emp.to_csv(os.path.join(path, '02 Data','Prepared Data', 'employee_cleaned.csv'))\n",
    "df_cus.to_csv(os.path.join(path, '02 Data','Prepared Data', 'customer_cleaned.csv'))\n",
    "df_inv.to_csv(os.path.join(path, '02 Data','Prepared Data', 'invoice_cleaned.csv'))\n",
    "df_tr_clean.to_csv(os.path.join(path, '02 Data','Prepared Data', 'track_cleaned.csv'))\n",
    "df_mt.to_csv(os.path.join(path, '02 Data','Prepared Data', 'media_type_cleaned.csv'))\n",
    "df_g.to_csv(os.path.join(path, '02 Data','Prepared Data', 'genre_cleaned.csv'))\n",
    "df_al.to_csv(os.path.join(path, '02 Data','Prepared Data', 'album_cleaned.csv'))\n",
    "df_at.to_csv(os.path.join(path, '02 Data','Prepared Data', 'artist_cleaned.csv'))\n",
    "df_plt.to_csv(os.path.join(path, '02 Data','Prepared Data', 'playlist_track_cleaned.csv'))\n",
    "df_pl.to_csv(os.path.join(path, '02 Data','Prepared Data', 'playlist_cleaned.csv'))"
   ]
  },
  {
   "cell_type": "code",
   "execution_count": null,
   "id": "8cca6931-1eec-4963-91c7-b260591b62df",
   "metadata": {},
   "outputs": [],
   "source": []
  }
 ],
 "metadata": {
  "kernelspec": {
   "display_name": "Python 3 (ipykernel)",
   "language": "python",
   "name": "python3"
  },
  "language_info": {
   "codemirror_mode": {
    "name": "ipython",
    "version": 3
   },
   "file_extension": ".py",
   "mimetype": "text/x-python",
   "name": "python",
   "nbconvert_exporter": "python",
   "pygments_lexer": "ipython3",
   "version": "3.9.13"
  }
 },
 "nbformat": 4,
 "nbformat_minor": 5
}
